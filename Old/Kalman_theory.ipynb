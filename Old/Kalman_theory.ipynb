{
 "cells": [
  {
   "cell_type": "markdown",
   "id": "b1463dc8",
   "metadata": {},
   "source": [
    "# Calibration of Thymio"
   ]
  },
  {
   "cell_type": "markdown",
   "id": "7f6f2873",
   "metadata": {},
   "source": [
    "To calibrate the odometry in rotation (the only needed here) based on time and speed (the only possibility here, having no encoders) it is useful to have a program that allows to set a speed and count time. The following program allows to start and stop rotating, enabling to count how much time (in 10ms units) is taken to make 10 revolutions."
   ]
  },
  {
   "cell_type": "code",
   "execution_count": 1,
   "id": "36d30c5d",
   "metadata": {
    "ExecuteTime": {
     "end_time": "2021-11-30T19:02:57.194625Z",
     "start_time": "2021-11-30T19:02:54.295624Z"
    }
   },
   "outputs": [
    {
     "ename": "Exception",
     "evalue": "Node lock error",
     "output_type": "error",
     "traceback": [
      "\u001b[1;31m---------------------------------------------------------------------------\u001b[0m",
      "\u001b[1;31mException\u001b[0m                                 Traceback (most recent call last)",
      "\u001b[1;32m~\\AppData\\Local\\Temp/ipykernel_155324/2526995588.py\u001b[0m in \u001b[0;36m<module>\u001b[1;34m\u001b[0m\n\u001b[0;32m      1\u001b[0m \u001b[1;32mimport\u001b[0m \u001b[0mtdmclient\u001b[0m\u001b[1;33m.\u001b[0m\u001b[0mnotebook\u001b[0m\u001b[1;33m\u001b[0m\u001b[1;33m\u001b[0m\u001b[0m\n\u001b[1;32m----> 2\u001b[1;33m \u001b[1;32mawait\u001b[0m \u001b[0mtdmclient\u001b[0m\u001b[1;33m.\u001b[0m\u001b[0mnotebook\u001b[0m\u001b[1;33m.\u001b[0m\u001b[0mstart\u001b[0m\u001b[1;33m(\u001b[0m\u001b[1;33m)\u001b[0m\u001b[1;33m\u001b[0m\u001b[1;33m\u001b[0m\u001b[0m\n\u001b[0m",
      "\u001b[1;32m~\\anaconda3\\envs\\basics_of_mobile_robotics\\lib\\site-packages\\tdmclient\\notebook\\__init__.py\u001b[0m in \u001b[0;36mstart\u001b[1;34m(tdm_addr, tdm_port, **kwargs)\u001b[0m\n\u001b[0;32m     91\u001b[0m     \u001b[0mclient\u001b[0m \u001b[1;33m=\u001b[0m \u001b[0mClientAsync\u001b[0m\u001b[1;33m(\u001b[0m\u001b[0mtdm_addr\u001b[0m\u001b[1;33m=\u001b[0m\u001b[0mtdm_addr\u001b[0m\u001b[1;33m,\u001b[0m \u001b[0mtdm_port\u001b[0m\u001b[1;33m=\u001b[0m\u001b[0mtdm_port\u001b[0m\u001b[1;33m)\u001b[0m\u001b[1;33m\u001b[0m\u001b[1;33m\u001b[0m\u001b[0m\n\u001b[0;32m     92\u001b[0m     \u001b[0mnode\u001b[0m \u001b[1;33m=\u001b[0m \u001b[1;32mawait\u001b[0m \u001b[0mclient\u001b[0m\u001b[1;33m.\u001b[0m\u001b[0mwait_for_node\u001b[0m\u001b[1;33m(\u001b[0m\u001b[1;33m**\u001b[0m\u001b[0mkwargs\u001b[0m\u001b[1;33m)\u001b[0m\u001b[1;33m\u001b[0m\u001b[1;33m\u001b[0m\u001b[0m\n\u001b[1;32m---> 93\u001b[1;33m     \u001b[1;32mawait\u001b[0m \u001b[0mnode\u001b[0m\u001b[1;33m.\u001b[0m\u001b[0mlock\u001b[0m\u001b[1;33m(\u001b[0m\u001b[1;33m)\u001b[0m\u001b[1;33m\u001b[0m\u001b[1;33m\u001b[0m\u001b[0m\n\u001b[0m\u001b[0;32m     94\u001b[0m \u001b[1;33m\u001b[0m\u001b[0m\n\u001b[0;32m     95\u001b[0m     \u001b[1;32mglobal\u001b[0m \u001b[0m_interactive_console\u001b[0m\u001b[1;33m\u001b[0m\u001b[1;33m\u001b[0m\u001b[0m\n",
      "\u001b[1;32m~\\anaconda3\\envs\\basics_of_mobile_robotics\\lib\\site-packages\\tdmclient\\clientasyncnode.py\u001b[0m in \u001b[0;36mlock\u001b[1;34m(self)\u001b[0m\n\u001b[0;32m     58\u001b[0m         \u001b[0mresult\u001b[0m \u001b[1;33m=\u001b[0m \u001b[1;32myield\u001b[0m \u001b[1;32mfrom\u001b[0m \u001b[0mself\u001b[0m\u001b[1;33m.\u001b[0m\u001b[0mlock_node\u001b[0m\u001b[1;33m(\u001b[0m\u001b[1;33m)\u001b[0m\u001b[1;33m\u001b[0m\u001b[1;33m\u001b[0m\u001b[0m\n\u001b[0;32m     59\u001b[0m         \u001b[1;32mif\u001b[0m \u001b[0mresult\u001b[0m \u001b[1;32mis\u001b[0m \u001b[1;32mnot\u001b[0m \u001b[1;32mNone\u001b[0m\u001b[1;33m:\u001b[0m\u001b[1;33m\u001b[0m\u001b[1;33m\u001b[0m\u001b[0m\n\u001b[1;32m---> 60\u001b[1;33m             \u001b[1;32mraise\u001b[0m \u001b[0mException\u001b[0m\u001b[1;33m(\u001b[0m\u001b[1;34m\"Node lock error\"\u001b[0m\u001b[1;33m)\u001b[0m\u001b[1;33m\u001b[0m\u001b[1;33m\u001b[0m\u001b[0m\n\u001b[0m\u001b[0;32m     61\u001b[0m         \u001b[1;32mreturn\u001b[0m \u001b[0mself\u001b[0m\u001b[1;33m\u001b[0m\u001b[1;33m\u001b[0m\u001b[0m\n\u001b[0;32m     62\u001b[0m \u001b[1;33m\u001b[0m\u001b[0m\n",
      "\u001b[1;31mException\u001b[0m: Node lock error"
     ]
    }
   ],
   "source": [
    "import tdmclient.notebook\n",
    "await tdmclient.notebook.start()"
   ]
  },
  {
   "cell_type": "code",
   "execution_count": null,
   "id": "7f7fb471",
   "metadata": {
    "ExecuteTime": {
     "end_time": "2021-11-30T19:02:57.200684Z",
     "start_time": "2021-11-30T19:02:57.200684Z"
    }
   },
   "outputs": [],
   "source": [
    "%%run_python\n",
    "\n",
    "counting = 0\n",
    "time = 0\n",
    "\n",
    "timer_period[0] = 10 # milliseconds\n",
    "\n",
    "@onevent \n",
    "def button_right(): # start counting\n",
    "    global counting, time, motor_left_target, motor_right_target\n",
    "    counting = 1\n",
    "    time = 0\n",
    "    motor_left_target = 100\n",
    "    motor_right_target = -100\n",
    "\n",
    "@onevent \n",
    "def button_center(): # stop counting\n",
    "    global counting, motor_left_target, motor_right_target\n",
    "    counting = 0\n",
    "    motor_left_target = 0\n",
    "    motor_right_target = 0\n",
    "\n",
    "@onevent \n",
    "def timer0():\n",
    "    global counting, time\n",
    "    if counting == 1:\n",
    "        time = time + 1"
   ]
  },
  {
   "cell_type": "code",
   "execution_count": null,
   "id": "4bf236fe",
   "metadata": {
    "ExecuteTime": {
     "end_time": "2021-11-30T19:02:57.204115Z",
     "start_time": "2021-11-30T19:02:57.203823Z"
    }
   },
   "outputs": [],
   "source": [
    "print(time)"
   ]
  },
  {
   "cell_type": "markdown",
   "id": "8b9fa63f",
   "metadata": {},
   "source": [
    "**Time to make 10 revolutions : 1'30''850 = 90850 ms <br>\n",
    "Time to make 1 revolution : 9085 ms**"
   ]
  },
  {
   "cell_type": "code",
   "execution_count": null,
   "id": "95abedc4",
   "metadata": {
    "ExecuteTime": {
     "end_time": "2021-11-30T19:02:57.207111Z",
     "start_time": "2021-11-30T19:02:57.207111Z"
    }
   },
   "outputs": [],
   "source": [
    "thymio_speed_rads = 2 * np.pi/9.085\n",
    "print(thymio_speed_rads)"
   ]
  },
  {
   "cell_type": "markdown",
   "id": "9295700c",
   "metadata": {},
   "source": [
    "**Thymio rotation speed is 0.692 rad/s for a speed command of 100/-100**"
   ]
  },
  {
   "cell_type": "code",
   "execution_count": null,
   "id": "fd6105c7",
   "metadata": {
    "ExecuteTime": {
     "end_time": "2021-11-30T19:02:57.211135Z",
     "start_time": "2021-11-30T19:02:57.211135Z"
    }
   },
   "outputs": [],
   "source": [
    "thymio_speed_to_rads =  thymio_speed_rads / 100\n",
    "print(thymio_speed_to_rads)"
   ]
  },
  {
   "cell_type": "markdown",
   "id": "f35a0b6f",
   "metadata": {},
   "source": [
    "**To go from Thymio speed to rad/s, the conversion factor is thymio_speed_to_rads = 0.00692**"
   ]
  },
  {
   "cell_type": "markdown",
   "id": "e90ec386",
   "metadata": {},
   "source": [
    "Calibrate rotation : "
   ]
  },
  {
   "cell_type": "code",
   "execution_count": null,
   "id": "29646f46",
   "metadata": {
    "ExecuteTime": {
     "end_time": "2021-11-30T19:02:57.216241Z",
     "start_time": "2021-11-30T19:02:57.216241Z"
    }
   },
   "outputs": [],
   "source": [
    "%%run_python\n",
    "\n",
    "TURN = 2\n",
    "ONETURN = 9085  # time in ms for oneturn\n",
    "SAMPLING = 5\n",
    "\n",
    "state = 0\n",
    "time = 0\n",
    "\n",
    "timer_period[0] = SAMPLING # 5 ms resolution\n",
    "\n",
    "@onevent \n",
    "def button_forward():\n",
    "    global state, TURN, time, motor_left_target, motor_right_target\n",
    "    state = TURN\n",
    "    time = 0\n",
    "    motor_left_target = 100\n",
    "    motor_right_target = -100\n",
    "\n",
    "@onevent \n",
    "def button_center():\n",
    "    global state, time, motor_left_target, motor_right_target\n",
    "    state = 0\n",
    "    time = 0\n",
    "    motor_left_target = 0\n",
    "    motor_right_target = 0\n",
    "\n",
    "@onevent \n",
    "def timer0():\n",
    "    global state, TURN, ONETURN, SAMPLING, time, motor_left_target, motor_right_target\n",
    "    time = time + 1\n",
    "    if state == TURN:\n",
    "        if time > ONETURN*2//SAMPLING:\n",
    "            time = 0\n",
    "            state = 0\n",
    "            motor_left_target = 0\n",
    "            motor_right_target = 0"
   ]
  },
  {
   "cell_type": "markdown",
   "id": "9d1a7169",
   "metadata": {},
   "source": [
    "Calibrate translation + rotation :"
   ]
  },
  {
   "cell_type": "code",
   "execution_count": null,
   "id": "304fa917",
   "metadata": {
    "ExecuteTime": {
     "end_time": "2021-11-30T19:02:57.220697Z",
     "start_time": "2021-11-30T19:02:57.220362Z"
    }
   },
   "outputs": [],
   "source": [
    "%%run_python\n",
    "\n",
    "FORWARD = 1\n",
    "TURN = 2\n",
    "ONETURN = 9085  # time in ms for oneturn\n",
    "SAMPLING = 5\n",
    "\n",
    "state = 0\n",
    "time = 0\n",
    "\n",
    "timer_period[0] = SAMPLING # 5 ms resolution\n",
    "\n",
    "@onevent \n",
    "def button_forward():\n",
    "    global state, FORWARD, time, motor_left_target, motor_right_target\n",
    "    state = FORWARD\n",
    "    time = 0\n",
    "    motor_left_target = 102\n",
    "    motor_right_target = 98\n",
    "\n",
    "@onevent \n",
    "def button_center():\n",
    "    global state, time, motor_left_target, motor_right_target\n",
    "    state = 0\n",
    "    time = 0\n",
    "    motor_left_target = 0\n",
    "    motor_right_target = 0\n",
    "\n",
    "@onevent \n",
    "def timer0():\n",
    "    global state, FORWARD, TURN, ONETURN, SAMPLING, time, motor_left_target, motor_right_target\n",
    "    time = time + 1\n",
    "    if state == FORWARD:\n",
    "        if time > ONETURN*3//SAMPLING//2:\n",
    "            time = 0\n",
    "            state = TURN\n",
    "            motor_left_target = 100\n",
    "            motor_right_target = -100\n",
    "            \n",
    "    if state == TURN:\n",
    "        if time > ONETURN*3//SAMPLING//2:  #thymio turned 360 + 180 degrees\n",
    "            time = 0\n",
    "            state = FORWARD\n",
    "            motor_left_target = 102\n",
    "            motor_right_target = 98"
   ]
  },
  {
   "cell_type": "markdown",
   "id": "9ad63504",
   "metadata": {},
   "source": [
    "**To go forward with a command of 100 we need : <br>\n",
    "motor_left_target = 102 <br>\n",
    "motor_right_target = 98**"
   ]
  },
  {
   "cell_type": "markdown",
   "id": "2e162802",
   "metadata": {},
   "source": [
    "# Kalman Filter"
   ]
  },
  {
   "cell_type": "markdown",
   "id": "705b04e0",
   "metadata": {
    "ExecuteTime": {
     "end_time": "2021-11-22T18:22:35.289032Z",
     "start_time": "2021-11-22T18:22:35.275070Z"
    }
   },
   "source": [
    "### Mesure of the different constants and variances"
   ]
  },
  {
   "cell_type": "markdown",
   "id": "1e699142",
   "metadata": {},
   "source": [
    "    1) Mesure and store the data when Thymio goes forward and when it rotates : "
   ]
  },
  {
   "cell_type": "code",
   "execution_count": null,
   "id": "932e7a23",
   "metadata": {
    "ExecuteTime": {
     "end_time": "2021-11-30T19:02:57.224164Z",
     "start_time": "2021-11-30T19:02:57.223695Z"
    }
   },
   "outputs": [],
   "source": [
    "import tdmclient.notebook\n",
    "from tdmclient import ClientAsync\n",
    "client = ClientAsync()\n",
    "node = await client.wait_for_node()\n",
    "await node.lock()"
   ]
  },
  {
   "cell_type": "code",
   "execution_count": null,
   "id": "efe040dd",
   "metadata": {
    "ExecuteTime": {
     "end_time": "2021-11-30T19:02:57.228153Z",
     "start_time": "2021-11-30T19:02:57.228153Z"
    }
   },
   "outputs": [],
   "source": [
    "import matplotlib.pyplot as plt\n",
    "from scipy.signal import find_peaks\n",
    "import numpy as np\n",
    "from tqdm import tqdm"
   ]
  },
  {
   "cell_type": "code",
   "execution_count": null,
   "id": "8680bfc3",
   "metadata": {
    "ExecuteTime": {
     "end_time": "2021-11-30T19:02:57.232632Z",
     "start_time": "2021-11-30T19:02:57.232282Z"
    }
   },
   "outputs": [],
   "source": [
    "from threading import Timer\n",
    "\n",
    "class RepeatedTimer(object):\n",
    "    def __init__(self, interval, function, *args):\n",
    "        self._timer     = None\n",
    "        self.interval   = interval\n",
    "        self.function   = function\n",
    "        self.args       = args\n",
    "        self.is_running = False\n",
    "        self.start()\n",
    "\n",
    "    def _run(self):\n",
    "        self.is_running = False\n",
    "        self.start()\n",
    "        self.function(*self.args)\n",
    "\n",
    "    def start(self):\n",
    "        if not self.is_running:\n",
    "            self._timer = Timer(self.interval, self._run)\n",
    "            self._timer.start()\n",
    "            self.is_running = True\n",
    "\n",
    "    def stop(self):\n",
    "        self._timer.cancel()\n",
    "        self.is_running = False"
   ]
  },
  {
   "cell_type": "code",
   "execution_count": null,
   "id": "a36b78da",
   "metadata": {
    "ExecuteTime": {
     "end_time": "2021-11-30T19:02:57.234630Z",
     "start_time": "2021-11-30T19:02:57.234630Z"
    }
   },
   "outputs": [],
   "source": [
    "Ts = 0.1\n",
    "\n",
    "def motors(left, right):\n",
    "    return {\n",
    "        \"motor.left.target\": [left],\n",
    "        \"motor.right.target\": [right],\n",
    "    }\n",
    "\n",
    "def get_data(thymio_data):\n",
    "    thymio_data.append({ \"left_speed\":node[\"motor.left.speed\"],\n",
    "                        \"right_speed\":node[\"motor.right.speed\"]})\n",
    "         \n",
    "def get_data_speed(thymio_data):\n",
    "    thymio_data.append({\"ground\":list(node[\"prox.ground.reflected\"]), \n",
    "                        \"left_speed\":node[\"motor.left.speed\"],\n",
    "                        \"right_speed\":node[\"motor.right.speed\"]})\n",
    "    "
   ]
  },
  {
   "cell_type": "markdown",
   "id": "63c2a5a1",
   "metadata": {},
   "source": [
    "Mesure the speed conversion constant : "
   ]
  },
  {
   "cell_type": "code",
   "execution_count": null,
   "id": "63fb6d3b",
   "metadata": {
    "ExecuteTime": {
     "end_time": "2021-11-30T19:02:57.239372Z",
     "start_time": "2021-11-30T19:02:57.239372Z"
    }
   },
   "outputs": [],
   "source": [
    "thymio_data_speed = []\n",
    "await node.wait_for_variables() # wait for Thymio variables values\n",
    "rt = RepeatedTimer(Ts, get_data_speed, thymio_data_speed) # it auto-starts, no need of rt.start()\n",
    "\n",
    "try:\n",
    "    # time.sleep would not work here, use asynchronous client.sleep method instead\n",
    "    await client.sleep(5)\n",
    "    node.send_set_variables(motors(102, 98))\n",
    "    await client.sleep(11) # your long-running job goes here...\n",
    "finally:\n",
    "    rt.stop() # better in a try/finally block to make sure the program ends!\n",
    "    node.send_set_variables(motors(0, 0))"
   ]
  },
  {
   "cell_type": "code",
   "execution_count": null,
   "id": "01e2b442",
   "metadata": {
    "ExecuteTime": {
     "end_time": "2021-11-30T19:02:57.242541Z",
     "start_time": "2021-11-30T19:02:57.242541Z"
    }
   },
   "outputs": [],
   "source": [
    "r_sensor = [x[\"ground\"][0] for x in thymio_data_speed]\n",
    "l_sensor = [x[\"ground\"][1] for x in thymio_data_speed]\n",
    "avg_ground = [(l+r)/2 for l, r in zip(l_sensor, r_sensor)]\n",
    "l_peaks = find_peaks(l_sensor, height = 400, distance = 7)[0]\n",
    "\n",
    "print(l_peaks)\n",
    "\n",
    "plt.plot(l_sensor, label=\"left sensor\")\n",
    "plt.plot(r_sensor, label=\"right sensor\")\n",
    "plt.plot(l_peaks, [l_sensor[idx] for idx in l_peaks], \"o\", label = \"left sensor peaks\")\n",
    "plt.xlabel(\"Time step\")\n",
    "plt.ylabel(\"Ground sensor measurement\")\n",
    "plt.legend()"
   ]
  },
  {
   "cell_type": "code",
   "execution_count": null,
   "id": "8bc0284f",
   "metadata": {
    "ExecuteTime": {
     "end_time": "2021-11-30T19:02:57.246885Z",
     "start_time": "2021-11-30T19:02:57.246530Z"
    }
   },
   "outputs": [],
   "source": [
    "thymio_mms_speed = 6*50/(Ts * (l_peaks[-1]-l_peaks[0]))\n",
    "print(\"The Thymio's speed in mm/s is {}\".format(thymio_mms_speed))"
   ]
  },
  {
   "cell_type": "markdown",
   "id": "a4bf8692",
   "metadata": {},
   "source": [
    "**Thymio's speed is 34.1 mm/s for a command of 100**"
   ]
  },
  {
   "cell_type": "code",
   "execution_count": null,
   "id": "141405f4",
   "metadata": {
    "ExecuteTime": {
     "end_time": "2021-11-30T19:02:57.251062Z",
     "start_time": "2021-11-30T19:02:57.251062Z"
    }
   },
   "outputs": [],
   "source": [
    "thymio_speed_to_mms = thymio_mms_speed/100\n",
    "print(\"To go from Thymio speed to mm/s, the conversion factor is {}\".format(thymio_speed_to_mms))"
   ]
  },
  {
   "cell_type": "markdown",
   "id": "ce1f7c5a",
   "metadata": {},
   "source": [
    "**To go from Thymio speed to mm/s, the conversion factor is  thymio_speed_to_mms = 0.341**"
   ]
  },
  {
   "cell_type": "code",
   "execution_count": null,
   "id": "c08440f1",
   "metadata": {
    "ExecuteTime": {
     "end_time": "2021-11-30T19:02:57.254797Z",
     "start_time": "2021-11-30T19:02:57.254797Z"
    }
   },
   "outputs": [],
   "source": [
    "distance_wheel = 95"
   ]
  },
  {
   "cell_type": "markdown",
   "id": "679718ff",
   "metadata": {},
   "source": [
    "**The distance between the two wheels is distance_wheel = 95 mm**"
   ]
  },
  {
   "cell_type": "markdown",
   "id": "c86e5721",
   "metadata": {},
   "source": [
    "Mesure the translational and rotational speed variance when Thymio goes forward : "
   ]
  },
  {
   "cell_type": "code",
   "execution_count": null,
   "id": "991255a9",
   "metadata": {
    "ExecuteTime": {
     "end_time": "2021-11-30T19:02:57.259378Z",
     "start_time": "2021-11-30T19:02:57.259378Z"
    }
   },
   "outputs": [],
   "source": [
    "thymio_data_forward = []\n",
    "await node.wait_for_variables() # wait for Thymio variables values\n",
    "rt = RepeatedTimer(Ts, get_data, thymio_data_forward) # it auto-starts, no need of rt.start()\n",
    "\n",
    "try:\n",
    "    # time.sleep would not work here, use asynchronous client.sleep method instead\n",
    "    await client.sleep(5)\n",
    "    node.send_set_variables(motors(102, 98))\n",
    "    await client.sleep(25) # your long-running job goes here...\n",
    "finally:\n",
    "    rt.stop() # better in a try/finally block to make sure the program ends!\n",
    "    node.send_set_variables(motors(0, 0))"
   ]
  },
  {
   "cell_type": "code",
   "execution_count": null,
   "id": "1f425eb2",
   "metadata": {
    "ExecuteTime": {
     "end_time": "2021-11-30T19:02:57.262365Z",
     "start_time": "2021-11-30T19:02:57.262365Z"
    }
   },
   "outputs": [],
   "source": [
    "l_speed = [x[\"left_speed\"] for x in thymio_data_forward]\n",
    "r_speed = [x[\"right_speed\"] for x in thymio_data_forward]\n",
    "avg_speed_trans = [(x[\"left_speed\"]+ x[\"right_speed\"])/2 for x in thymio_data_forward]\n",
    "avg_speed_rot = [(x[\"right_speed\"] - x[\"left_speed\"])/2 for x in thymio_data_forward]\n",
    "plt.plot(l_speed, label=\"Left motor\")\n",
    "plt.plot(r_speed, label=\"Right motor\")\n",
    "plt.plot(avg_speed_trans, label=\"Average_trans\")\n",
    "plt.plot(avg_speed_rot, label=\"Average_rot\")\n",
    "plt.xlabel(\"Time step\")\n",
    "plt.ylabel(\"Measured Velocity\")\n",
    "plt.legend()"
   ]
  },
  {
   "cell_type": "code",
   "execution_count": null,
   "id": "2fcd0f71",
   "metadata": {
    "ExecuteTime": {
     "end_time": "2021-11-30T19:02:57.266449Z",
     "start_time": "2021-11-30T19:02:57.266449Z"
    }
   },
   "outputs": [],
   "source": [
    "plt.plot(l_speed[55:], label=\"left speed\")\n",
    "plt.plot(r_speed[55:], label=\"right speed\")\n",
    "plt.plot(avg_speed_trans[55:], label=\"average speed trans\")\n",
    "plt.plot(avg_speed_rot[55:], label=\"average speed rot\")\n",
    "plt.xlabel(\"Time step\")\n",
    "plt.ylabel(\"Measured Velocity\")\n",
    "plt.legend()"
   ]
  },
  {
   "cell_type": "code",
   "execution_count": null,
   "id": "b3baef65",
   "metadata": {
    "ExecuteTime": {
     "end_time": "2021-11-30T19:02:57.269436Z",
     "start_time": "2021-11-30T19:02:57.269436Z"
    }
   },
   "outputs": [],
   "source": [
    "var_speed_trans = np.var(avg_speed_trans[55:]) * thymio_speed_to_mms**2\n",
    "var_speed_rot = np.var(avg_speed_rot[55:]) * thymio_speed_to_rads **2\n",
    "\n",
    "print(\"The translational speed variance in mm^2/s^2 is {}\".format(var_speed_trans))\n",
    "print(\"The rotational speed variance in rad^2/s^2 is {}\".format(var_speed_rot))"
   ]
  },
  {
   "cell_type": "markdown",
   "id": "43044cf3",
   "metadata": {},
   "source": [
    " **Assuming that half og the variance is caused by the measurements and half is caused by perturbations to the states, this gives us :**"
   ]
  },
  {
   "cell_type": "code",
   "execution_count": null,
   "id": "8b74bc8c",
   "metadata": {
    "ExecuteTime": {
     "end_time": "2021-11-30T19:02:57.272733Z",
     "start_time": "2021-11-30T19:02:57.272733Z"
    }
   },
   "outputs": [],
   "source": [
    "q_F_x_dot = var_speed_trans/4 # variance on speed state\n",
    "q_F_y_dot = var_speed_trans/4 # variance on speed state\n",
    "r_F_x_dot = var_speed_trans/4 # variance on speed measurement\n",
    "r_F_y_dot = var_speed_trans/4 # variance on speed measurement\n",
    "\n",
    "q_F_theta_dot = var_speed_rot/2 # variance on speed state\n",
    "r_F_theta_dot = var_speed_rot/2 # variance on speed measurement\n",
    "print(q_F_x_dot)\n",
    "print(q_F_theta_dot)"
   ]
  },
  {
   "cell_type": "markdown",
   "id": "89f56dd7",
   "metadata": {},
   "source": [
    "$q_\\dot x^F = 0.779 $ mm²/s² <br>\n",
    "$q_\\dot y^F = 0.779 $ mm²/s² <br>\n",
    "$q_\\dot \\theta^F = 0.000591 $ rad²/s² <br>\n",
    "$r_\\dot x^F = 0.779 $ mm²/s² <br>\n",
    "$r_\\dot y^F = 0.779 $ mm²/s² <br>\n",
    "$r_\\dot \\theta^F = 0.000591 $ rad²/s² "
   ]
  },
  {
   "cell_type": "markdown",
   "id": "4bd3615a",
   "metadata": {},
   "source": [
    "Mesure the speed variance when Thymio rotates : "
   ]
  },
  {
   "cell_type": "code",
   "execution_count": null,
   "id": "67bb8d23",
   "metadata": {
    "ExecuteTime": {
     "end_time": "2021-11-30T19:02:57.276055Z",
     "start_time": "2021-11-30T19:02:57.276055Z"
    }
   },
   "outputs": [],
   "source": [
    "thymio_data_turn = []\n",
    "await node.wait_for_variables() # wait for Thymio variables values\n",
    "rt = RepeatedTimer(Ts, get_data, thymio_data_turn) # it auto-starts, no need of rt.start()\n",
    "\n",
    "try:\n",
    "    # time.sleep would not work here, use asynchronous client.sleep method instead\n",
    "    await client.sleep(5)\n",
    "    node.send_set_variables(motors(100, -100))\n",
    "    await client.sleep(25) # your long-running job goes here...\n",
    "finally:\n",
    "    rt.stop() # better in a try/finally block to make sure the program ends!\n",
    "    node.send_set_variables(motors(0, 0))"
   ]
  },
  {
   "cell_type": "code",
   "execution_count": null,
   "id": "59122206",
   "metadata": {
    "ExecuteTime": {
     "end_time": "2021-11-30T19:02:57.280174Z",
     "start_time": "2021-11-30T19:02:57.280174Z"
    }
   },
   "outputs": [],
   "source": [
    "l_speed = [x[\"left_speed\"] for x in thymio_data_turn]\n",
    "r_speed = [x[\"right_speed\"] for x in thymio_data_turn]\n",
    "avg_speed_trans = [(x[\"left_speed\"] + x[\"right_speed\"])/2 for x in thymio_data_turn]\n",
    "avg_speed_rot = [(x[\"right_speed\"] - x[\"left_speed\"])/2 for x in thymio_data_turn]\n",
    "plt.plot(l_speed, label=\"Left motor\")\n",
    "plt.plot(r_speed, label=\"Right motor\")\n",
    "plt.plot(avg_speed_trans, label=\"Average_trans\")\n",
    "plt.plot(avg_speed_rot, label=\"Average_rot\")\n",
    "plt.xlabel(\"Time step\")\n",
    "plt.ylabel(\"Measured Velocity\")\n",
    "plt.legend()"
   ]
  },
  {
   "cell_type": "code",
   "execution_count": null,
   "id": "1c9a84f9",
   "metadata": {
    "ExecuteTime": {
     "end_time": "2021-11-30T19:02:57.282188Z",
     "start_time": "2021-11-30T19:02:57.282188Z"
    }
   },
   "outputs": [],
   "source": [
    "plt.plot(l_speed[55:], label=\"left speed\")\n",
    "plt.plot(r_speed[55:], label=\"right speed\")\n",
    "plt.plot(avg_speed_trans[55:], label=\"average speed trans\")\n",
    "plt.plot(avg_speed_rot[55:], label=\"average speed rot\")\n",
    "plt.xlabel(\"Time step\")\n",
    "plt.ylabel(\"Measured Velocity\")\n",
    "plt.legend()"
   ]
  },
  {
   "cell_type": "code",
   "execution_count": null,
   "id": "e180ff46",
   "metadata": {
    "ExecuteTime": {
     "end_time": "2021-11-30T19:02:57.285608Z",
     "start_time": "2021-11-30T19:02:57.285608Z"
    }
   },
   "outputs": [],
   "source": [
    "var_speed_trans = np.var(avg_speed_trans[55:]) * thymio_speed_to_mms**2\n",
    "var_speed_rot = np.var(avg_speed_rot[55:]) * thymio_speed_to_rads**2\n",
    "\n",
    "print(\"The translational speed variance in mm^2/s^2 is {}\".format(var_speed_trans))\n",
    "print(\"The rotational speed variance in rad^2/s^2 is {}\".format(var_speed_rot))"
   ]
  },
  {
   "cell_type": "markdown",
   "id": "7f0bc19d",
   "metadata": {},
   "source": [
    " **Assuming that half og the varance is caused by the measurements and half is caused by perturbations to the states, this gives us :**"
   ]
  },
  {
   "cell_type": "code",
   "execution_count": null,
   "id": "fcbab2b3",
   "metadata": {
    "ExecuteTime": {
     "end_time": "2021-11-30T19:02:57.287602Z",
     "start_time": "2021-11-30T19:02:57.287602Z"
    }
   },
   "outputs": [],
   "source": [
    "q_R_x_dot = var_speed_trans/4 # variance on speed state\n",
    "q_R_y_dot = var_speed_trans/4 # variance on speed state\n",
    "r_R_x_dot = var_speed_trans/4 # variance on speed measurement\n",
    "r_R_y_dot = var_speed_trans/4 # variance on speed measurement\n",
    "\n",
    "q_R_theta_dot = var_speed_rot/2 # variance on speed state\n",
    "r_R_theta_dot = var_speed_rot/2 # variance on speed measurement\n",
    "print(q_R_x_dot)\n",
    "print(q_R_theta_dot)"
   ]
  },
  {
   "cell_type": "markdown",
   "id": "f77d319f",
   "metadata": {},
   "source": [
    "$q_\\dot x^R = 1.31 $ mm²/s² <br>\n",
    "$q_\\dot y^R =  1.31 $ mm²/s² <br>\n",
    "$q_\\dot \\theta^R = 0.00122 $ rad²/s² <br>\n",
    "$r_\\dot x^R =  1.31 $ mm²/s² <br>\n",
    "$r_\\dot y^R =  1.31 $ mm²/s² <br>\n",
    "$r_\\dot \\theta^R = 0.00122 $ rad²/s² "
   ]
  },
  {
   "cell_type": "markdown",
   "id": "650c9cab",
   "metadata": {},
   "source": [
    "**For the variance on the position:**\n",
    "<br>\n",
    "We chose these variances somehow arbitrarly : \n",
    "<br>\n",
    "1. when thymio is going forward : \n",
    "<br>\n",
    "$q_x^F = 0.008 $ mm² <br>\n",
    "$q_y^F = 0.008 $ mm² <br>\n",
    "$q_\\theta^F = 0.000006 $ rad² \n",
    "2.when thymio is rotating : \n",
    "<br>\n",
    "$q_x^R = 0.01 $ mm² <br>\n",
    "$q_y^R = 0.01 $ mm² <br>\n",
    "$q_\\theta^R = 0.00001 $ rad²  "
   ]
  },
  {
   "cell_type": "markdown",
   "id": "95715c6d",
   "metadata": {},
   "source": [
    "### The theory  "
   ]
  },
  {
   "cell_type": "markdown",
   "id": "33842895",
   "metadata": {},
   "source": [
    "Let's start by defining the discrete-time state-space model $X_{k+1} = f(X_k)$ (where $X_k$ is a vector of the position and the translational and rotational velocities, i.e. $X_k = [P_k; V_k]$), assuming a fixed sampling time $T_s$, with the quantities of interest (position and speed)\n",
    "\n",
    "Let the state $X_k$ contain the position $P_k = (x_k, y_k, \\theta_k) $ with $x_k$, $y_k$ in mm and the orientation $\\theta_k$ in rad, and the velocities $V_k = (\\dot x_k, \\dot y_k, \\dot\\theta_k)$ with the translational speeds $\\dot x_k, \\dot y_k$  in mm/s and the rotationnal speed $\\dot\\theta_k$ in rad/s. The linear discrete-time state-space model is : \n",
    "\n",
    "$X_{k+1}= A X_k + W_k $\n",
    "   \n",
    "where $W_k$ is the process noise with mean zero and covariance $Q$.\n",
    "<br>\n",
    "For simplicity we assume that all the process noises are independent. Hence $Q$ is diagonal.\n",
    "\n",
    "where $ Q = \\begin{bmatrix} q_x & 0 & 0 & 0 & 0 & 0\\\\ 0 & q_y & 0 & 0 & 0 & 0 \\\\ 0 & 0 & q_\\theta & 0 & 0 & 0 \\\\ \n",
    "0 & 0 & 0 & q_\\dot x & 0 & 0 \\\\ 0 & 0 & 0 & 0 & q_\\dot y & 0 \\\\ 0 & 0 & 0 & 0 & 0 & q_\\dot\\theta \\end{bmatrix} $\n",
    "\n"
   ]
  },
  {
   "cell_type": "markdown",
   "id": "b3efffb9",
   "metadata": {},
   "source": [
    "To implement the Kalman Filter one need to distinguish two different scenarios :\n",
    "\n",
    "1. When Thymio is only going forward with a command of $100$ : the measurements at our disposal are the translational and rotational speed of the robot.\n",
    "2. When Thymio is only rotating on itself with a command of $100$ / $-100$ : the measurements at our disposal are the translational and rotational speed of the robot\n",
    "\n",
    "**Here we can only measure the velocities !**\n",
    "\n",
    "We therefore consider two different velocities measurements $Y_k = HX_k + N_k$, one per scenario, where $N_k$ is the measurement noise with zero mean and covariance $R$\n",
    "\n",
    "1. When Thymio is only going **forward** the measurement $Y^F$ is given by:\n",
    "\n",
    "      $Y_k^F = HX_k + N_k^F =  \\begin{bmatrix} 0 & 0 & 0 & 1 & 0 & 0 \\\\ 0 & 0 & 0 & 0 & 1 & 0 \n",
    "      \\\\ 0 & 0 & 0 & 0 & 0 & 1\\end{bmatrix}x_k+N_k^F$\n",
    "\n",
    "      where $N_k^F$  is the measurement noise with zero mean and covariance $R^F$. \n",
    "      <br>\n",
    "      For simplicity we assume that all the velocities measurement noise are independent.\n",
    "      <br>\n",
    "      Hence $R^F$ is a diagonal matrix $R^F = \\begin{bmatrix} r_\\dot x^F & 0 & 0\\\\ 0 & r_\\dot y^F & 0 \\\\ 0 & 0 & r_\\dot\\theta^F \\end{bmatrix}$\n",
    "      <br>\n",
    "      with :\n",
    "      <br>\n",
    "      $r_\\dot x^F = 0.779 $ mm²/s² <br>\n",
    "      $r_\\dot y^F = 0.779 $ mm²/s² <br>\n",
    "      $r_\\dot \\theta^F = 0.000591 $ rad²/s² \n",
    "      \n",
    "      The linear discrete-time state-space model is : \n",
    "\n",
    "      $X_{k+1}= A^F X_k + W_k^F = \\begin{bmatrix} 1 & 0 & 0 & T_s & 0 & 0\\\\ 0 & 1 & 0 & 0 & T_s & 0 \\\\ 0 & 0 & 1 & 0 & 0 & 0 \\\\ \n",
    "0 & 0 & 0 & 1 & 0 & 0 \\\\ 0 & 0 & 0 & 0 & 1 & 0 \\\\ 0 & 0 & 0 & 0 & 0 & 1 \\end{bmatrix}X_k+W_k^F $\n",
    "      \n",
    "      For the process noises we have also : \n",
    "      $ Q^F = \\begin{bmatrix} q_x^F & 0 & 0 & 0 & 0 & 0\\\\ 0 & q_y^F & 0 & 0 & 0 & 0 \\\\ 0 & 0 & q_\\theta^F & 0 & 0 & 0 \\\\ \n",
    "      0 & 0 & 0 & q_\\dot x^F & 0 & 0 \\\\ 0 & 0 & 0 & 0 & q_\\dot y^F & 0 \\\\ 0 & 0 & 0 & 0 & 0 & q_\\dot\\theta^F \\end{bmatrix} $\n",
    "      <br>\n",
    "      with :\n",
    "      <br>\n",
    "      $q_x^F = 0.008 $ mm² <br>\n",
    "      $q_y^F = 0.008 $ mm² <br>\n",
    "      $q_\\theta^F = 0.000006 $ rad² <br>\n",
    "      $q_\\dot x^F = 0.779 $ mm²/s² <br>\n",
    "      $q_\\dot y^F = 0.779 $ mm²/s² <br>\n",
    "      $q_\\dot \\theta^F = 0.000591 $ rad²/s² <br>\n",
    "\n",
    "      \n",
    "2. When Thymio is only **rotating** the measurement $Y^R$ is given by:\n",
    "\n",
    "      $Y_k^R = HX_k + N_k^R =  \\begin{bmatrix} 0 & 0 & 0 & 1 & 0 & 0 \\\\ 0 & 0 & 0 & 0 & 1 & 0 \n",
    "      \\\\ 0 & 0 & 0 & 0 & 0 & 1\\end{bmatrix}x_k+N_k^R$\n",
    "\n",
    "      where $N_k^R$  is the measurement noise with zero mean and covariance $R^R$. \n",
    "      <br>\n",
    "      For simplicity we assume that all the velocities measurement noise are independent.\n",
    "      <br>\n",
    "      Hence $R^R$ is a diagonal matrix $R^R = \\begin{bmatrix} r_\\dot x^R & 0 & 0\\\\ 0 & r_\\dot y^R & 0 \\\\ 0 & 0 & r_\\dot\\theta^R \\end{bmatrix}$\n",
    "      <br>\n",
    "      with :\n",
    "      <br>\n",
    "      $r_\\dot x^R =  1.31 $ mm²/s² <br>\n",
    "      $r_\\dot y^R =  1.31 $ mm²/s² <br>\n",
    "      $r_\\dot \\theta^R = 0.00122 $ rad²/s² \n",
    "      \n",
    "      The linear discrete-time state-space model is : \n",
    "\n",
    "      $X_{k+1}= A^R X_k + W_k^R = \\begin{bmatrix} 1 & 0 & 0 & 0 & 0 & 0\\\\ 0 & 1 & 0 & 0 & 0 & 0 \\\\ 0 & 0 & 1 & 0 & 0 & T_s \\\\ \n",
    "0 & 0 & 0 & 1 & 0 & 0 \\\\ 0 & 0 & 0 & 0 & 1 & 0 \\\\ 0 & 0 & 0 & 0 & 0 & 1 \\end{bmatrix}X_k+W_k^R $\n",
    "      \n",
    "      For the process noises we have also : \n",
    "      $ Q^R = \\begin{bmatrix} q_x^R & 0 & 0 & 0 & 0 & 0\\\\ 0 & q_y^R & 0 & 0 & 0 & 0 \\\\ 0 & 0 & q_\\theta^R & 0 & 0 & 0 \\\\ \n",
    "      0 & 0 & 0 & q_\\dot x^R & 0 & 0 \\\\ 0 & 0 & 0 & 0 & q_\\dot y^R & 0 \\\\ 0 & 0 & 0 & 0 & 0 & q_\\dot\\theta^R \\end{bmatrix} $\n",
    "      <br>\n",
    "      with :\n",
    "      <br>\n",
    "      $q_x^R = 0.01 $ mm² <br>\n",
    "      $q_y^R = 0.01 $ mm² <br>\n",
    "      $q_\\theta^R = 0.00001 $ rad² <br>\n",
    "      $q_\\dot x^R = 1.31 $ mm²/s² <br>\n",
    "      $q_\\dot y^R =  1.31 $ mm²/s² <br>\n",
    "      $q_\\dot \\theta^R = 0.00122 $ rad²/s² <br>\n",
    "\n",
    "      \n",
    "      \n",
    "      "
   ]
  }
 ],
 "metadata": {
  "kernelspec": {
   "display_name": "Python(basics_of_mobile_robotics)",
   "language": "python",
   "name": "basics_of_mobile_robotics"
  },
  "language_info": {
   "codemirror_mode": {
    "name": "ipython",
    "version": 3
   },
   "file_extension": ".py",
   "mimetype": "text/x-python",
   "name": "python",
   "nbconvert_exporter": "python",
   "pygments_lexer": "ipython3",
   "version": "3.8.11"
  }
 },
 "nbformat": 4,
 "nbformat_minor": 5
}
