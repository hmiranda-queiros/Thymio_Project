{
 "cells": [
  {
   "cell_type": "markdown",
   "id": "7f188c52",
   "metadata": {},
   "source": [
    "### The theory  "
   ]
  },
  {
   "cell_type": "markdown",
   "id": "3a2eba95",
   "metadata": {},
   "source": [
    "Let's start by defining the discrete-time state-space model $X_{k+1} = f(X_k)$ (where $X_k$ is a vector of the position and the translational and rotational velocities, i.e. $X_k = [P_k; V_k]$), assuming a fixed sampling time $T_s$, with the quantities of interest (position and speed)\n",
    "\n",
    "Let the state $X_k$ contain the position $P_k = (x_k, y_k, \\theta_k) $ with $x_k$, $y_k$ in mm and the orientation $\\theta_k$ in rad, and the velocities $V_k = (\\dot x_k, \\dot y_k, \\dot\\theta_k)$ with the translational speeds $\\dot x_k, \\dot y_k$  in mm/s and the rotationnal speed $\\dot\\theta_k$ in rad/s. The linear discrete-time state-space model is : \n",
    "\n",
    "$X_{k+1}= A X_k + W_k $\n",
    "   \n",
    "where $W_k$ is the process noise with mean zero and covariance $Q$.\n",
    "<br>\n",
    "For simplicity we assume that all the process noises are independent. Hence $Q$ is diagonal.\n",
    "\n",
    "where $ Q = \\begin{bmatrix} q_x & 0 & 0 & 0 & 0 & 0\\\\ 0 & q_y & 0 & 0 & 0 & 0 \\\\ 0 & 0 & q_\\theta & 0 & 0 & 0 \\\\ \n",
    "0 & 0 & 0 & q_\\dot x & 0 & 0 \\\\ 0 & 0 & 0 & 0 & q_\\dot y & 0 \\\\ 0 & 0 & 0 & 0 & 0 & q_\\dot\\theta \\end{bmatrix} $\n",
    "\n"
   ]
  },
  {
   "cell_type": "markdown",
   "id": "89cb1277",
   "metadata": {},
   "source": [
    "To implement the Kalman Filter one need to distinguish two different scenarios :\n",
    "\n",
    "1. When the camera is online : the measurements at our disposal are the position and translational and rotational speed of the robot.\n",
    "2. When the camera is offline : the measurements at our disposal are only the translational and rotational speed of the robot.\n",
    "\n",
    "\n",
    "We therefore consider 2 different measurements $Y_k = HX_k + N_k$, one per scenario, where $N_k$ is the measurement noise with zero mean and covariance $R$\n",
    "\n",
    "**1. When the camera is online  the measurements $Y^{ON}$ is given by :** <br>\n",
    "  $Y_k^{ON} = H^{ON} X_k + N_k^{ON} = \\begin{bmatrix} 1 & 0 & 0 & 0 & 0 & 0\\\\ 0 & 1 & 0 & 0 & 0 & 0 \\\\ 0 & 0 & 1 & 0 & 0 & 0 \\\\ 0 & 0 & 0 & 1 & 0 & 0 \\\\ 0 & 0 & 0 & 0 & 1 & 0 \\\\ 0 & 0 & 0 & 0 & 0 & 1 \\end{bmatrix}X_k+N_k^{ON}$\n",
    "\n",
    "  where $N_k^{ON}$  is the measurement noise with zero mean and covariance $R^{ON}$. \n",
    "  <br>\n",
    "  For simplicity we assume that all the measurement noises are independent.\n",
    "  <br>\n",
    "  Hence $R^{ON}$ is a diagonal matrix, $R^{ON} = \\begin{bmatrix} r_x & 0 & 0 & 0 & 0 & 0\\\\ 0 & r_y & 0 & 0 & 0 & 0 \\\\ 0 & 0 & r_\\theta & 0 & 0 & 0 \\\\ \n",
    "  0 & 0 & 0 & r_\\dot x & 0 & 0 \\\\ 0 & 0 & 0 & 0 & r_\\dot y & 0 \\\\ 0 & 0 & 0 & 0 & 0 & r_\\dot\\theta \\end{bmatrix}$\n",
    "  <br>\n",
    "  with :\n",
    "  <br>\n",
    "  $r_x = 2 $ mm² <br>\n",
    "  $r_y = 2 $ mm² <br>\n",
    "  $r_\\theta =  0.035 $ rad² <br>\n",
    "  $r_\\dot x = 1.1 $ mm²/s² <br>\n",
    "  $r_\\dot y = 1.1 $ mm²/s² <br>\n",
    "  $r_\\dot \\theta = 0.00087 $ rad²/s² \n",
    "\n",
    "**2. When the camera is offline  the measurements $Y^{OFF}$ is given by :** <br>\n",
    "  $Y_k^{OFF} = H^{OFF}X_k + N_k^{OFF} =  \\begin{bmatrix} 0 & 0 & 0 & 1 & 0 & 0 \\\\ 0 & 0 & 0 & 0 & 1 & 0 \n",
    "  \\\\ 0 & 0 & 0 & 0 & 0 & 1\\end{bmatrix}x_k+N_k^{OFF}$\n",
    "\n",
    "  where $N_k^{OFF}$  is the measurement noise with zero mean and covariance $R^{OFF}$. \n",
    "  <br>\n",
    "  For simplicity we assume that all the measurement noises are independent.\n",
    "  <br>\n",
    "  Hence $R^{OFF}$ is a diagonal matrix, $R^{OFF} = \\begin{bmatrix} r_\\dot x & 0 & 0\\\\ 0 & r_\\dot y & 0 \\\\ 0 & 0 & r_\\dot\\theta \\end{bmatrix}$\n",
    "  <br>\n",
    "  with :\n",
    "  <br>\n",
    "  $r_\\dot x = 1.1 $ mm²/s² <br>\n",
    "  $r_\\dot y = 1.1 $ mm²/s² <br>\n",
    "  $r_\\dot \\theta = 0.00087 $ rad²/s² \n",
    "            "
   ]
  },
  {
   "cell_type": "markdown",
   "id": "d62bc05f",
   "metadata": {},
   "source": [
    "We choose to only allow Thymio to go forward or rotate on itself, consequently :  \n",
    "\n",
    "**The linear discrete-time state-space model when Thymio is going forward is :** \n",
    "\n",
    "  $X_{k+1}= A^F X_k + W_k = \\begin{bmatrix} 1 & 0 & 0 & T_s & 0 & 0\\\\ 0 & 1 & 0 & 0 & T_s & 0 \\\\ 0 & 0 & 1 & 0 & 0 & 0 \\\\ \n",
    "0 & 0 & 0 & 1 & 0 & 0 \\\\ 0 & 0 & 0 & 0 & 1 & 0 \\\\ 0 & 0 & 0 & 0 & 0 & 1 \\end{bmatrix}X_k+W_k $\n",
    "\n",
    "  \n",
    "      \n",
    "      \n",
    "**The linear discrete-time state-space model when Thymio is rotating on itself :**\n",
    "\n",
    "  $X_{k+1}= A^R X_k + W_k = \\begin{bmatrix} 1 & 0 & 0 & 0 & 0 & 0\\\\ 0 & 1 & 0 & 0 & 0 & 0 \\\\ 0 & 0 & 1 & 0 & 0 & T_s \\\\ \n",
    "0 & 0 & 0 & 1 & 0 & 0 \\\\ 0 & 0 & 0 & 0 & 1 & 0 \\\\ 0 & 0 & 0 & 0 & 0 & 1 \\end{bmatrix}X_k+W_k $\n",
    "\n",
    "For the process noises with covariance Q, we have also : \n",
    "<br>\n",
    "<br>\n",
    "  $ Q = \\begin{bmatrix} q_x & 0 & 0 & 0 & 0 & 0\\\\ 0 & q_y & 0 & 0 & 0 & 0 \\\\ 0 & 0 & q_\\theta & 0 & 0 & 0 \\\\ \n",
    "  0 & 0 & 0 & q_\\dot x & 0 & 0 \\\\ 0 & 0 & 0 & 0 & q_\\dot y & 0 \\\\ 0 & 0 & 0 & 0 & 0 & q_\\dot\\theta \\end{bmatrix} $\n",
    "  <br>\n",
    "  with :\n",
    "  <br>\n",
    "  \n",
    "$q_x = 0.011 $ mm² <br>\n",
    "$q_y =  0.011 $ mm² <br>\n",
    "$q_\\theta = 0.0000087 $ rad² <br>\n",
    "$q_\\dot x = 1.1 $ mm²/s² <br>\n",
    "$q_\\dot y =  1.1 $ mm²/s² <br>\n",
    "$q_\\dot \\theta = 0.00087 $ rad²/s² <br>\n",
    "  <br>"
   ]
  }
 ],
 "metadata": {
  "kernelspec": {
   "display_name": "Python(basics_of_mobile_robotics)",
   "language": "python",
   "name": "basics_of_mobile_robotics"
  },
  "language_info": {
   "codemirror_mode": {
    "name": "ipython",
    "version": 3
   },
   "file_extension": ".py",
   "mimetype": "text/x-python",
   "name": "python",
   "nbconvert_exporter": "python",
   "pygments_lexer": "ipython3",
   "version": "3.8.11"
  }
 },
 "nbformat": 4,
 "nbformat_minor": 5
}
