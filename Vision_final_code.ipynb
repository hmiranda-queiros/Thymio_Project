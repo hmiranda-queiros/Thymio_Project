{
 "cells": [
  {
   "cell_type": "code",
   "execution_count": 1,
   "id": "27e84611",
   "metadata": {},
   "outputs": [],
   "source": [
    "import os\n",
    "import glob\n",
    "import cv2\n",
    "import numpy as np\n",
    "import matplotlib.pyplot as plt\n",
    "import timeit\n",
    "from time import sleep\n",
    "import cv2.aruco as aruco\n",
    "import math\n",
    "from IPython.display import display, clear_output\n",
    "import math, sys, os\n",
    "from plotter import *\n",
    "from kalman import *\n",
    "from motion import *\n",
    "from timer import *\n",
    "from global_utils import convert_to_np,sort_coords,vis_graph,heuristic,a_star,plot_map,swap_xy\n",
    "from vision_utils import *\n",
    "sys.path.insert(0, os.path.join(os.getcwd(), 'src'))"
   ]
  },
  {
   "cell_type": "code",
   "execution_count": 4,
   "id": "0d039020",
   "metadata": {},
   "outputs": [
    {
     "data": {
      "text/plain": [
       "True"
      ]
     },
     "execution_count": 4,
     "metadata": {},
     "output_type": "execute_result"
    }
   ],
   "source": [
    "#setup camera\n",
    "cap = cv2.VideoCapture(0,cv2.CAP_DSHOW)\n",
    "cap.set(cv2.CAP_PROP_FRAME_WIDTH, 1280)\n",
    "cap.set(cv2.CAP_PROP_FRAME_HEIGHT, 720)\n",
    "cap.set(cv2.CAP_PROP_EXPOSURE, -4)  #adjust this to avoid reflection from A4 paper"
   ]
  },
  {
   "cell_type": "code",
   "execution_count": 43,
   "id": "588010c0",
   "metadata": {},
   "outputs": [
    {
     "data": {
      "text/plain": [
       "<matplotlib.image.AxesImage at 0x26a00b293d0>"
      ]
     },
     "execution_count": 43,
     "metadata": {},
     "output_type": "execute_result"
    }
   ],
   "source": [
    "#for faking dynamic camera input\n",
    "frame_tmp = cv2.imread('test3.png')\n",
    "# frame = cv2.cvtColor(frame, cv2.COLOR_BGR2RGB)\n",
    "# frame = cv2.imread('test_im_floor.jpeg')\n",
    "plt.imshow(frame_tmp)"
   ]
  },
  {
   "cell_type": "markdown",
   "id": "ecea72c9",
   "metadata": {},
   "source": [
    "## Dynamic plotting in main loop"
   ]
  },
  {
   "cell_type": "code",
   "execution_count": null,
   "id": "ba9d3c4a",
   "metadata": {},
   "outputs": [],
   "source": [
    "#camera warmup run at start up to get stable frames\n",
    "ret, frame = cap.read()\n",
    "time.sleep(1)\n",
    "ret, frame = cap.read()\n",
    "frame = cv2.cvtColor(frame, cv2.COLOR_BGR2RGB)"
   ]
  },
  {
   "cell_type": "code",
   "execution_count": null,
   "id": "70d6a36d",
   "metadata": {},
   "outputs": [],
   "source": [
    "#run one time or when replanning\n",
    "cam_OK, Thymio_center, Thymio_dir, Thymio_target, obs_corners, obstacles_mask, warpedimg, warpedimg_clean = localisation_cam(frame)\n",
    "[obs_coords, start, goal] = convert_to_np(obs_corners, Thymio_center, Thymio_target)\n",
    "obs_coords = sort_coords(obs_coords)\n",
    "[nodes, edges] = vis_graph(obs_coords, start, goal)\n",
    "h = heuristic(nodes)\n",
    "optimal_path = a_star(nodes, edges, h)"
   ]
  },
  {
   "cell_type": "code",
   "execution_count": 48,
   "id": "bf49cb6e",
   "metadata": {},
   "outputs": [],
   "source": [
    "def vision_update(): #40ms cycle\n",
    "    global cap, frame, cam_OK,\\\n",
    "           Thymio_center, Thymio_dir, Thymio_target,\\\n",
    "           obs_corners,obstacles_mask, warpedimg_clean_annotated, warpedimg_annotated\n",
    "    ret, frame_tmp = cap.read()\n",
    "    if ret:\n",
    "        frame = cv2.cvtColor(frame_tmp, cv2.COLOR_BGR2RGB)\n",
    "#     warpedimg = frame\n",
    "#     warpedimg_clean = frame\n",
    "#     frame = cv2.cvtColor(frame_tmp, cv2.COLOR_BGR2RGB)\n",
    "    cam_OK, Thymio_center, Thymio_dir, Thymio_target, obs_corners, obstacles_mask, warpedimg, warpedimg_clean = localisation_cam(frame)\n",
    "    warpedimg_clean_annotated = overlay_vis_graph(Thymio_center, Thymio_target, obs_corners, optimal_path, warpedimg_clean)\n",
    "    warpedimg_annotated = overlay_vis_graph(Thymio_center, Thymio_target, obs_corners, optimal_path, warpedimg)"
   ]
  },
  {
   "cell_type": "code",
   "execution_count": 49,
   "id": "b5383b6e",
   "metadata": {},
   "outputs": [],
   "source": [
    "rt1 = RepeatedTimer(0.05, vision_update)"
   ]
  },
  {
   "cell_type": "code",
   "execution_count": null,
   "id": "e2e71619",
   "metadata": {},
   "outputs": [],
   "source": [
    "%matplotlib qt\n",
    "# %matplotlib inline #not working\n",
    "fig = plt.figure(figsize=(10,10))\n",
    "ax1 = fig.add_subplot(2,1,1)\n",
    "ax2 = fig.add_subplot(2,1,2)\n",
    "while(1):\n",
    "    ax1.cla()\n",
    "    ax1.imshow(warpedimg_clean_annotated)\n",
    "    ax2.cla()\n",
    "    ax2.imshow(warpedimg_annotated)\n",
    "    plt.pause(0.001)\n",
    "    clear_output(wait=True)"
   ]
  },
  {
   "cell_type": "code",
   "execution_count": 47,
   "id": "03016c7e",
   "metadata": {},
   "outputs": [],
   "source": [
    "rt1.stop()"
   ]
  }
 ],
 "metadata": {
  "kernelspec": {
   "display_name": "Python 3 (ipykernel)",
   "language": "python",
   "name": "python3"
  },
  "language_info": {
   "codemirror_mode": {
    "name": "ipython",
    "version": 3
   },
   "file_extension": ".py",
   "mimetype": "text/x-python",
   "name": "python",
   "nbconvert_exporter": "python",
   "pygments_lexer": "ipython3",
   "version": "3.8.8"
  }
 },
 "nbformat": 4,
 "nbformat_minor": 5
}
