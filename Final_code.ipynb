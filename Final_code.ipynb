{
 "cells": [
  {
   "cell_type": "code",
   "execution_count": 1,
   "id": "22569ea3",
   "metadata": {
    "ExecuteTime": {
     "end_time": "2021-11-30T11:06:14.442084Z",
     "start_time": "2021-11-30T11:06:11.328288Z"
    }
   },
   "outputs": [],
   "source": [
    "import math, sys, os\n",
    "\n",
    "sys.path.insert(0, os.path.join(os.getcwd(), 'src'))\n",
    "from plotter import *\n",
    "from kalman import *\n",
    "\n",
    "\n",
    "# Import tdmclient Notebook environment:\n",
    "import tdmclient.notebook\n",
    "await tdmclient.notebook.start()"
   ]
  },
  {
   "cell_type": "code",
   "execution_count": 2,
   "id": "b0fdf40c",
   "metadata": {
    "ExecuteTime": {
     "end_time": "2021-11-30T11:06:14.795142Z",
     "start_time": "2021-11-30T11:06:14.442084Z"
    }
   },
   "outputs": [],
   "source": [
    "%%run_python\n",
    "\n",
    "state = 1\n",
    "\n",
    "@onevent\n",
    "def move(speed_left, speed_right):\n",
    "    global motor_left_target, motor_right_target, state\n",
    "    if state == 1 :\n",
    "        motor_left_target = speed_left\n",
    "        motor_right_target = speed_right\n",
    "    \n",
    "@onevent \n",
    "def button_center():\n",
    "    global state, motor_left_target, motor_right_target\n",
    "    state = 0\n",
    "    motor_left_target = 0\n",
    "    motor_right_target = 0"
   ]
  },
  {
   "cell_type": "code",
   "execution_count": 3,
   "id": "32d3e776",
   "metadata": {
    "ExecuteTime": {
     "end_time": "2021-11-30T11:06:14.810165Z",
     "start_time": "2021-11-30T11:06:14.796145Z"
    }
   },
   "outputs": [],
   "source": [
    "def send_command():\n",
    "    if optimal_command[step][0] == optimal_command[step][1] and optimal_command[step][0] != 0:\n",
    "        send_event(\"move\", optimal_command[step][0] + 2, optimal_command[step][1] - 2)\n",
    "    else :\n",
    "        send_event(\"move\", optimal_command[step][0], optimal_command[step][1])"
   ]
  },
  {
   "cell_type": "code",
   "execution_count": 4,
   "id": "fa676da4",
   "metadata": {
    "ExecuteTime": {
     "end_time": "2021-11-30T11:06:14.825133Z",
     "start_time": "2021-11-30T11:06:14.811167Z"
    }
   },
   "outputs": [],
   "source": [
    "@tdmclient.notebook.sync_var\n",
    "def get_speed():\n",
    "    return motor_left_speed, motor_right_speed\n",
    "\n",
    "def kalman_call():\n",
    "    global step, x_est, start, rt\n",
    "    \n",
    "    if step < len(optimal_command) and camera_on != True:\n",
    "        #retrieves the equivalent of the command that was applied Ts seconds ago\n",
    "        speed_left = optimal_command[step][0]\n",
    "        speed_right = optimal_command[step][1]\n",
    "\n",
    "        speed_trans = (speed_left + speed_right) * thymio_speed_to_mms / 2\n",
    "        speed_rot =  (speed_right - speed_left) * (thymio_speed_to_mms / distance_wheel)\n",
    "\n",
    "        theta = x_est[-1][2];\n",
    "\n",
    "        x_est[-1][3] = speed_trans * math.cos(theta)\n",
    "        x_est[-1][4] = speed_trans * math.sin(theta)\n",
    "        x_est[-1][5] = speed_rot\n",
    "\n",
    "        #gets the right matrix corresponding to the command :\n",
    "        #Thymio goes forward\n",
    "        if speed_left == speed_right :\n",
    "            Q = Q_F\n",
    "            R = R_F\n",
    "            A = A_F\n",
    "\n",
    "        #Thymio is rotating\n",
    "        else :\n",
    "            Q = Q_R\n",
    "            R = R_R\n",
    "            A = A_R\n",
    "\n",
    "\n",
    "        #measures the speed of the robot\n",
    "        meas_speed_left,  meas_speed_right = get_speed()\n",
    "\n",
    "        #computes the estimated states\n",
    "        new_x_est, new_P_est = kalman_filter(meas_speed_left, meas_speed_right, x_est[-1], P_est[-1], Q, R, A)\n",
    "\n",
    "        x_est.append(new_x_est)\n",
    "        P_est.append(new_P_est)\n",
    "\n",
    "        step += 1\n",
    "\n",
    "        if step < len(optimal_command) :\n",
    "            send_command()\n",
    "    else :\n",
    "        rt.stop()"
   ]
  },
  {
   "cell_type": "code",
   "execution_count": 5,
   "id": "1f6bdced",
   "metadata": {
    "ExecuteTime": {
     "end_time": "2021-11-30T11:06:14.840693Z",
     "start_time": "2021-11-30T11:06:14.827004Z"
    }
   },
   "outputs": [],
   "source": [
    "camera_on = False\n",
    "\n",
    "#initial state :\n",
    "x0 = 10\n",
    "y0 = 10\n",
    "theta0 = 0\n",
    "x_dot0 = 0 \n",
    "y_dot0 = 0\n",
    "theta_dot0 = 0 \n",
    "\n",
    "x_est = [np.array([[x0], [y0], [theta0], [x_dot0], [y_dot0], [theta_dot0]])]\n",
    "\n",
    "if x_dot0 == y_dot0 :\n",
    "    P_est = [np.diag(np.array([0.001, 0.001, 0.000001, q_F_x_dot, q_F_y_dot, q_F_theta_dot]))]\n",
    "\n",
    "else :\n",
    "    P_est = [np.diago(np.array([0.001, 0.001, 0.000001, q_R_x_dot, q_R_y_dot, q_R_theta_dot]))]\n",
    "\n",
    "step = 0\n",
    "optimal_command = [[-100, 100], [-100, 100], [-100, 100], [-100, 100], [-100, 100], [-100, 100], [-100, 100], [-100, 100], [-100, 100], [-100, 100], [-100, 100], [-100, 100], [100, 100], [100, 100], [100, 100], [100, 100], [100, 100], [100, 100], [100, 100], [100, 100], [100, 100], [100, 100], [100, 100], [100, 100], [100, 100], [100, 100], [100, 100], [0, 0]]\n",
    "\n",
    "#start of Kalman\n",
    "send_command()\n",
    "\n",
    "rt = RepeatedTimer(Ts, kalman_call)"
   ]
  },
  {
   "cell_type": "code",
   "execution_count": null,
   "id": "06039acd",
   "metadata": {},
   "outputs": [],
   "source": []
  }
 ],
 "metadata": {
  "kernelspec": {
   "display_name": "Python(basics_of_mobile_robotics)",
   "language": "python",
   "name": "basics_of_mobile_robotics"
  },
  "language_info": {
   "codemirror_mode": {
    "name": "ipython",
    "version": 3
   },
   "file_extension": ".py",
   "mimetype": "text/x-python",
   "name": "python",
   "nbconvert_exporter": "python",
   "pygments_lexer": "ipython3",
   "version": "3.8.11"
  }
 },
 "nbformat": 4,
 "nbformat_minor": 5
}
