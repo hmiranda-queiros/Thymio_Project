{
 "cells": [
  {
   "cell_type": "markdown",
   "id": "24740953",
   "metadata": {},
   "source": [
    "# Code"
   ]
  },
  {
   "cell_type": "code",
   "execution_count": 1,
   "id": "ba412fcf",
   "metadata": {
    "ExecuteTime": {
     "end_time": "2021-11-27T09:06:39.154993Z",
     "start_time": "2021-11-27T09:06:36.851991Z"
    }
   },
   "outputs": [],
   "source": [
    "import matplotlib.pyplot as plt\n",
    "import numpy as np\n",
    "from tqdm import tqdm"
   ]
  },
  {
   "cell_type": "markdown",
   "id": "649125c7",
   "metadata": {},
   "source": [
    "### Instantiation of all the constants : "
   ]
  },
  {
   "cell_type": "code",
   "execution_count": 3,
   "id": "93ef3fac",
   "metadata": {
    "ExecuteTime": {
     "end_time": "2021-11-27T09:38:30.829786Z",
     "start_time": "2021-11-27T09:38:30.775961Z"
    }
   },
   "outputs": [],
   "source": [
    "#Constants\n",
    "Ts = 0.1\n",
    "thymio_speed_to_mms = 0.341\n",
    "distance_wheel = 95\n",
    "\n",
    "#Thymio goes forward\n",
    "q_F_x = 0.008\n",
    "q_F_y =  0.008\n",
    "q_F_theta = 0.000006\n",
    "q_F_x_dot = 0.779  \n",
    "q_F_y_dot =  0.779  \n",
    "q_F_theta_dot = 0.000591\n",
    "\n",
    "Q_F = np.array([[q_F_x, 0, 0, 0, 0, 0], \n",
    "                [0, q_F_y, 0, 0, 0, 0], \n",
    "                [0, 0, q_F_theta, 0, 0, 0],\n",
    "                [0, 0, 0, q_F_x_dot, 0, 0], \n",
    "                [0, 0, 0, 0, q_F_y_dot, 0], \n",
    "                [0, 0, 0, 0, 0, q_F_theta_dot]]);\n",
    "\n",
    "r_F_x_dot = 0.779  \n",
    "r_F_y_dot = 0.779\n",
    "r_F_theta_dot = 0.000591\n",
    "\n",
    "R_F = np.array([[r_F_x_dot, 0, 0],\n",
    "               [0, r_F_y_dot, 0],\n",
    "               [0, 0, r_F_theta_dot]]);\n",
    "\n",
    "A_F = np.array([[1, 0, 0, Ts, 0, 0], \n",
    "                [0, 1, 0, 0, Ts, 0], \n",
    "                [0, 0, 1, 0, 0, 0],\n",
    "                [0, 0, 0, 1, 0, 0], \n",
    "                [0, 0, 0, 0, 1, 0], \n",
    "                [0, 0, 0, 0, 0, 1]]);\n",
    "\n",
    "\n",
    "#Thymio rotates\n",
    "q_R_x = 0.01\n",
    "q_R_y =  0.01\n",
    "q_R_theta = 0.00001 \n",
    "q_R_x_dot = 1.31\n",
    "q_R_y_dot =  1.31\n",
    "q_R_theta_dot = 0.00122\n",
    "\n",
    "Q_R = np.array([[q_R_x, 0, 0, 0, 0, 0], \n",
    "                [0, q_R_y, 0, 0, 0, 0], \n",
    "                [0, 0, q_R_theta, 0, 0, 0],\n",
    "                [0, 0, 0, q_R_x_dot, 0, 0], \n",
    "                [0, 0, 0, 0, q_R_y_dot, 0], \n",
    "                [0, 0, 0, 0, 0, q_R_theta_dot]]);\n",
    "\n",
    "r_R_x_dot = 1.31\n",
    "r_R_y_dot = 1.31\n",
    "r_R_theta_dot = 0.00122  \n",
    "\n",
    "R_R = np.array([[r_R_x_dot, 0, 0],\n",
    "               [0, r_R_y_dot, 0],\n",
    "               [0, 0, r_R_theta_dot]]);\n",
    "\n",
    "A_R = np.array([[1, 0, 0, 0, 0, 0], \n",
    "                [0, 1, 0, 0, 0, 0], \n",
    "                [0, 0, 1, 0, 0, Ts],\n",
    "                [0, 0, 0, 1, 0, 0], \n",
    "                [0, 0, 0, 0, 1, 0], \n",
    "                [0, 0, 0, 0, 0, 1]]);\n",
    "\n",
    "# commun matrix\n",
    "H = np.array([[0, 0, 0, 1, 0, 0], \n",
    "              [0, 0, 0, 0, 1, 0],\n",
    "              [0, 0, 0, 0, 0, 1]]);\n",
    "\n"
   ]
  },
  {
   "cell_type": "markdown",
   "id": "9114b701",
   "metadata": {},
   "source": [
    "### Code of Kalman function :"
   ]
  },
  {
   "cell_type": "code",
   "execution_count": 4,
   "id": "cf668798",
   "metadata": {
    "ExecuteTime": {
     "end_time": "2021-11-27T09:38:33.042197Z",
     "start_time": "2021-11-27T09:38:33.013192Z"
    }
   },
   "outputs": [],
   "source": [
    "def kalman_filter(meas_speed_left, meas_speed_right, x_est_prev, P_est_prev, Q, R, A):\n",
    "    \n",
    "    \n",
    "    ## Prediciton through the a priori estimate\n",
    "    # estimated mean of the state\n",
    "    x_est_a_priori = np.dot(A, x_est_prev) \n",
    "    \n",
    "    # Estimated covariance of the state\n",
    "    P_est_a_priori = np.dot(A, np.dot(P_est_prev, A.T))\n",
    "    P_est_a_priori = P_est_a_priori + Q\n",
    "    \n",
    "    \n",
    "    #measurements\n",
    "    speed_trans = (meas_speed_left + meas_speed_right) * thymio_speed_to_mms / 2\n",
    "    speed_rot =  (meas_speed_right - meas_speed_left) * (thymio_speed_to_mms / distance_wheel)\n",
    "    \n",
    "    theta_est = x_est_a_priori[2];\n",
    "    x_dot = speed_trans * np.cos(theta_est)\n",
    "    y_dot = speed_trans * np.sin(theta_est)\n",
    "    theta_dot = speed_rot\n",
    "    \n",
    "    y = np.array([[x_dot], [y_dot], [theta_dot]])\n",
    "   \n",
    "\n",
    "    # innovation / measurement residual\n",
    "    i = y - np.dot(H, x_est_a_priori)\n",
    "    # measurement prediction covariance\n",
    "    S = np.dot(H, np.dot(P_est_a_priori, H.T)) + R\n",
    "             \n",
    "    # Kalman gain (tells how much the predictions should be corrected based on the measurements)\n",
    "    K = np.dot(P_est_a_priori, np.dot(H.T, np.linalg.inv(S)))\n",
    "    \n",
    "    \n",
    "    # a posteriori estimate\n",
    "    x_est = x_est_a_priori + np.dot(K,i)\n",
    "    P_est = P_est_a_priori - np.dot(K,np.dot(H, P_est_a_priori))\n",
    "     \n",
    "    return x_est, P_est"
   ]
  },
  {
   "cell_type": "markdown",
   "id": "cffdbc91",
   "metadata": {},
   "source": [
    "### Utilization of Kalman : "
   ]
  },
  {
   "cell_type": "code",
   "execution_count": null,
   "id": "68b8eed0",
   "metadata": {},
   "outputs": [],
   "source": [
    "# Import tdmclient Notebook environment:\n",
    "import tdmclient.notebook\n",
    "await tdmclient.notebook.start()"
   ]
  },
  {
   "cell_type": "code",
   "execution_count": null,
   "id": "13ed51ff",
   "metadata": {},
   "outputs": [],
   "source": [
    "camera_on = False"
   ]
  },
  {
   "cell_type": "code",
   "execution_count": null,
   "id": "e28c5007",
   "metadata": {},
   "outputs": [],
   "source": [
    "#initial state :\n",
    "x0 = 0\n",
    "y0 = 0\n",
    "x_dot0 = 0 \n",
    "y_dot0 = 0\n",
    "theta_dot0 = 0 \n",
    "\n",
    "x_est = [np.array([[x0], [y0], [theta0], [x_dot0], [y_dot0], [theta_dot0]])]\n",
    "P_est = [0.001 * np.ones(6)]\n",
    "\n",
    "step = 0\n",
    "otpimal_path = [[100, 100], [100, 100], [100, 100], [100, 100], [100, 100]]"
   ]
  },
  {
   "cell_type": "code",
   "execution_count": null,
   "id": "fb28b37d",
   "metadata": {},
   "outputs": [],
   "source": [
    "from threading import Timer\n",
    "\n",
    "class RepeatedTimer(object):\n",
    "    def __init__(self, interval, function, *args):\n",
    "        self._timer     = None\n",
    "        self.interval   = interval\n",
    "        self.function   = function\n",
    "        self.args       = args\n",
    "        self.is_running = False\n",
    "        self.start()\n",
    "\n",
    "    def _run(self):\n",
    "        self.is_running = False\n",
    "        self.start()\n",
    "        self.function(*self.args)\n",
    "\n",
    "    def start(self):\n",
    "        if not self.is_running:\n",
    "            self._timer = Timer(self.interval, self._run)\n",
    "            self._timer.start()\n",
    "            self.is_running = True\n",
    "\n",
    "    def stop(self):\n",
    "        self._timer.cancel()\n",
    "        self.is_running = False"
   ]
  },
  {
   "cell_type": "code",
   "execution_count": null,
   "id": "1b9dd683",
   "metadata": {},
   "outputs": [],
   "source": [
    "@tdmclient.notebook.sync_var\n",
    "def get_speed():\n",
    "    return motor_left_speed, motor_right_speed\n",
    "\n",
    "def kalman_call():\n",
    "    global counter\n",
    "    \n",
    "    #retrieves the equivalent of the command that was applied 100ms ago\n",
    "    speed_left = optimal_command[counter][0]\n",
    "    speed_right = optimal_command[counter][1]\n",
    "    \n",
    "    speed_trans = (speed_left + speed_right) * thymio_speed_to_mms / 2\n",
    "    speed_rot =  (speed_right - speed_left) * (thymio_speed_to_mms / distance_wheel)\n",
    "    theta = x_est[-1][2];\n",
    "    \n",
    "    x_est[3] = speed_trans * np.cos(theta)\n",
    "    x_est[4] = speed_trans * np.sin(theta)\n",
    "    x_est[5] = speed_rot\n",
    "    \n",
    "    #gets the right matrix corresponding to the command :\n",
    "    #Thymio goes forward\n",
    "    if speed_left == speed_right :     \n",
    "        Q = Q_F\n",
    "        R = R_F\n",
    "        A = A_F\n",
    "    \n",
    "    #Thymio is rotating\n",
    "    else :\n",
    "        Q = Q_R\n",
    "        R = R_R\n",
    "        A = A_R\n",
    "    \n",
    "    #measures the speed of the robot\n",
    "    meas_speed_left,  meas_speed_right = get_speed()\n",
    "    \n",
    "    #computes the estimated states\n",
    "    new_x_est, new_P_est = kalman_filter(meas_speed_left, meas_speed_right, x_est_prev, P_est_prev, Q, R, A)\n",
    "    \n",
    "    x_est.append(new_x_est)\n",
    "    P_est.append(new_P_est)\n",
    "    \n",
    "    counter += 1\n",
    "    \n",
    "    "
   ]
  },
  {
   "cell_type": "code",
   "execution_count": null,
   "id": "5f6d2990",
   "metadata": {},
   "outputs": [],
   "source": [
    "%%run_python\n",
    "\n",
    "@onevent\n",
    "def move(speed_left, speed_right):\n",
    "    global motor_left_target, motor_right_target\n",
    "    motor_left_target = speed_left\n",
    "    motor_right_target = speed_right"
   ]
  },
  {
   "cell_type": "code",
   "execution_count": null,
   "id": "d6843dcb",
   "metadata": {},
   "outputs": [],
   "source": [
    "def send_command()\n",
    "    send_event(\"move\", optimal_command[step + 1][0], optimal_command[step + 1][1])"
   ]
  },
  {
   "cell_type": "code",
   "execution_count": null,
   "id": "b8e8aa15",
   "metadata": {},
   "outputs": [],
   "source": [
    "#start of Kalman\n",
    "while camera_on != True :\n",
    "    if step == 0:\n",
    "        send_event(\"move\", optimal_command[0][0], optimal_command[0][1])\n",
    "         \n",
    "    timer_kalman = RepeatedTimer(Ts, kalman_call)\n",
    "    timer_command = RepeatedTimer(Ts, send_command)\n",
    "    \n",
    "timer_kalman.stop()\n",
    "timer_command.stop()"
   ]
  }
 ],
 "metadata": {
  "kernelspec": {
   "display_name": "Python(basics_of_mobile_robotics)",
   "language": "python",
   "name": "basics_of_mobile_robotics"
  },
  "language_info": {
   "codemirror_mode": {
    "name": "ipython",
    "version": 3
   },
   "file_extension": ".py",
   "mimetype": "text/x-python",
   "name": "python",
   "nbconvert_exporter": "python",
   "pygments_lexer": "ipython3",
   "version": "3.8.11"
  }
 },
 "nbformat": 4,
 "nbformat_minor": 5
}
