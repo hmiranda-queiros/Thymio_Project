{
 "cells": [
  {
   "cell_type": "markdown",
   "id": "24740953",
   "metadata": {},
   "source": [
    "# Code"
   ]
  },
  {
   "cell_type": "code",
   "execution_count": 1,
   "id": "ba412fcf",
   "metadata": {
    "ExecuteTime": {
     "end_time": "2021-11-27T09:06:39.154993Z",
     "start_time": "2021-11-27T09:06:36.851991Z"
    }
   },
   "outputs": [],
   "source": [
    "import matplotlib.pyplot as plt\n",
    "import numpy as np\n",
    "from tqdm import tqdm"
   ]
  },
  {
   "cell_type": "markdown",
   "id": "649125c7",
   "metadata": {},
   "source": [
    "### Instantiation of all the constants : "
   ]
  },
  {
   "cell_type": "code",
   "execution_count": 2,
   "id": "93ef3fac",
   "metadata": {
    "ExecuteTime": {
     "end_time": "2021-11-27T09:06:40.736223Z",
     "start_time": "2021-11-27T09:06:40.659523Z"
    }
   },
   "outputs": [],
   "source": [
    "#Constants\n",
    "Ts = 0.1\n",
    "thymio_speed_to_mms = 0.341\n",
    "distance_wheel = 95\n",
    "\n",
    "#Thymio goes forward\n",
    "q_F_x = 0.008\n",
    "q_F_y =  0.008\n",
    "q_F_theta = 0.000006\n",
    "q_F_x_dot = 0.779  \n",
    "q_F_y_dot =  0.779  \n",
    "q_F_theta_dot = 0.000591\n",
    "\n",
    "Q_F = np.array([[q_F_x, 0, 0, 0, 0, 0], \n",
    "                [0, q_F_y, 0, 0, 0, 0], \n",
    "                [0, 0, q_F_theta, 0, 0, 0],\n",
    "                [0, 0, 0, q_F_x_dot, 0, 0], \n",
    "                [0, 0, 0, 0, q_F_y_dot, 0], \n",
    "                [0, 0, 0, 0, 0, q_F_theta_dot]]);\n",
    "\n",
    "r_F_x_dot = 0.779  \n",
    "r_F_y_dot = 0.779\n",
    "r_F_theta_dot = 0.000591\n",
    "\n",
    "R_F = np.array([[r_F_x_dot, 0, 0],\n",
    "               [0, r_F_y_dot, 0],\n",
    "               [0, 0, r_F_theta_dot]]);\n",
    "\n",
    "A_F = np.array([[1, 0, 0, Ts, 0, 0], \n",
    "                [0, 1, 0, 0, Ts, 0], \n",
    "                [0, 0, 1, 0, 0, 0],\n",
    "                [0, 0, 0, 1, 0, 0], \n",
    "                [0, 0, 0, 0, 1, 0], \n",
    "                [0, 0, 0, 0, 0, 1]]);\n",
    "\n",
    "\n",
    "#Thymio rotates\n",
    "q_R_x = 0.01\n",
    "q_R_y =  0.01\n",
    "q_R_theta = 0.00001 \n",
    "q_R_x_dot = 1.31\n",
    "q_R_y_dot =  1.31\n",
    "q_R_theta_dot = 0.00122\n",
    "\n",
    "Q_R = np.array([[q_R_x, 0, 0, 0, 0, 0], \n",
    "                [0, q_R_y, 0, 0, 0, 0], \n",
    "                [0, 0, q_R_theta, 0, 0, 0],\n",
    "                [0, 0, 0, q_R_x_dot, 0, 0], \n",
    "                [0, 0, 0, 0, q_R_y_dot, 0], \n",
    "                [0, 0, 0, 0, 0, q_R_theta_dot]]);\n",
    "\n",
    "r_R_x_dot = 1.31\n",
    "r_R_y_dot = 1.31\n",
    "r_R_theta_dot = 0.00122  \n",
    "\n",
    "R_R = np.array([[r_R_x_dot, 0, 0],\n",
    "               [0, r_R_y_dot, 0],\n",
    "               [0, 0, r_R_theta_dot]]);\n",
    "\n",
    "A_R = np.array([[1, 0, 0, 0, 0, 0], \n",
    "                [0, 1, 0, 0, 0, 0], \n",
    "                [0, 0, 1, 0, 0, Ts],\n",
    "                [0, 0, 0, 1, 0, 0], \n",
    "                [0, 0, 0, 0, 1, 0], \n",
    "                [0, 0, 0, 0, 0, 1]]);\n",
    "\n",
    "# commun matrix\n",
    "H = np.array([[0, 0, 0, 1, 0, 0], \n",
    "              [0, 0, 0, 0, 1, 0],\n",
    "              [0, 0, 0, 0, 0, 1]]);\n",
    "\n"
   ]
  },
  {
   "cell_type": "markdown",
   "id": "86b9b603",
   "metadata": {},
   "source": [
    "### Code of Kalman function :"
   ]
  },
  {
   "cell_type": "code",
   "execution_count": null,
   "id": "431c159b",
   "metadata": {},
   "outputs": [],
   "source": [
    "def kalman_filter(meas_speed_left, meas_speed_right, x_est_prev, P_est_prev, Q, R, A):\n",
    "    \n",
    "    \n",
    "    ## Prediciton through the a priori estimate\n",
    "    # estimated mean of the state\n",
    "    x_est_a_priori = np.dot(A, x_est_prev) \n",
    "    \n",
    "    # Estimated covariance of the state\n",
    "    P_est_a_priori = np.dot(A, np.dot(P_est_prev, A.T))\n",
    "    P_est_a_priori = P_est_a_priori + Q\n",
    "    \n",
    "    \n",
    "    #measurements\n",
    "    speed_trans = (meas_speed_left + meas_speed_right) * thymio_speed_to_mms / 2\n",
    "    speed_rot =  (meas_speed_right - meas_speed_left) * (thymio_speed_to_mms / distance_wheel)\n",
    "    \n",
    "    theta_est = x_est_a_priori[2];\n",
    "    x_dot = speed_trans * np.cos(theta_est)\n",
    "    y_dot = speed_trans * np.sin(theta_est)\n",
    "    theta_dot = speed_rot\n",
    "    \n",
    "    y = np.array([[x_dot], [y_dot], [theta_dot]])\n",
    "   \n",
    "\n",
    "    # innovation / measurement residual\n",
    "    i = y - np.dot(H, x_est_a_priori);\n",
    "    # measurement prediction covariance\n",
    "    S = np.dot(H, np.dot(P_est_a_priori, H.T)) + R;\n",
    "             \n",
    "    # Kalman gain (tells how much the predictions should be corrected based on the measurements)\n",
    "    K = np.dot(P_est_a_priori, np.dot(H.T, np.linalg.inv(S)));\n",
    "    \n",
    "    \n",
    "    # a posteriori estimate\n",
    "    x_est = x_est_a_priori + np.dot(K,i);\n",
    "    P_est = P_est_a_priori - np.dot(K,np.dot(H, P_est_a_priori));\n",
    "     \n",
    "    return x_est, P_est"
   ]
  }
 ],
 "metadata": {
  "kernelspec": {
   "display_name": "Python(basics_of_mobile_robotics)",
   "language": "python",
   "name": "basics_of_mobile_robotics"
  },
  "language_info": {
   "codemirror_mode": {
    "name": "ipython",
    "version": 3
   },
   "file_extension": ".py",
   "mimetype": "text/x-python",
   "name": "python",
   "nbconvert_exporter": "python",
   "pygments_lexer": "ipython3",
   "version": "3.8.11"
  }
 },
 "nbformat": 4,
 "nbformat_minor": 5
}
