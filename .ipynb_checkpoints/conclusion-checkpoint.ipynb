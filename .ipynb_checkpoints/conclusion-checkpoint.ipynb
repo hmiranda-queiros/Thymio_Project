{
 "cells": [
  {
   "cell_type": "markdown",
   "id": "04e269b2",
   "metadata": {},
   "source": [
    "# Conclusion\n",
    "\n",
    "The objective of this project was to address five main components of mobile robotics, including <strong>vision</strong>, <strong>global navigation</strong>, <strong>local navigation</strong>, <strong>filtering</strong>, and <strong>motion control</strong>. All in all, we succeeded to make Thymio move from the start to the goal in an optimal sense while avoiding static (global) and dynamic (unexpected) obstacles. As a quick review, what we did was to use the camera and extract the required informaion (obstacles' coordinates and etc.) from the taken picture. Then, we do global navigation in the first place to derive the optimal path. Afterwards, using Kalman filtering and vision, we translated the optimal path to a set of thymio's motor commands and kept correcting the path after each 1s. Additionaly, we also avoided unexpected (dynamic) obstacles which may be placed along the Thymio's path. In the end we would like to draw your attention to the demo video we recorded in this <a href='https://www.google.com'>link</a>."
   ]
  }
 ],
 "metadata": {
  "kernelspec": {
   "display_name": "Python 3",
   "language": "python",
   "name": "python3"
  },
  "language_info": {
   "codemirror_mode": {
    "name": "ipython",
    "version": 3
   },
   "file_extension": ".py",
   "mimetype": "text/x-python",
   "name": "python",
   "nbconvert_exporter": "python",
   "pygments_lexer": "ipython3",
   "version": "3.8.8"
  }
 },
 "nbformat": 4,
 "nbformat_minor": 5
}
