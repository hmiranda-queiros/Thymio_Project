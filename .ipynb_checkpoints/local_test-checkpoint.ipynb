{
 "cells": [
  {
   "cell_type": "code",
   "execution_count": 1,
   "id": "fbb76571",
   "metadata": {
    "ExecuteTime": {
     "end_time": "2021-12-11T23:33:12.700307Z",
     "start_time": "2021-12-11T23:33:12.229010Z"
    }
   },
   "outputs": [],
   "source": [
    "import os\n",
    "import numpy as np\n",
    "import matplotlib.pyplot as plt\n",
    "from matplotlib.gridspec import GridSpec\n",
    "import timeit\n",
    "from time import sleep\n",
    "import math\n",
    "\n",
    "import math, sys, os\n",
    "sys.path.insert(0, os.path.join(os.getcwd(), 'src'))\n",
    "\n",
    "from plotter import *\n",
    "from kalman import *\n",
    "from motion import *\n",
    "from timer import *\n",
    "from global_utils import *\n",
    "from local_utils import *"
   ]
  },
  {
   "cell_type": "code",
   "execution_count": 2,
   "id": "8bfabbfc",
   "metadata": {
    "ExecuteTime": {
     "end_time": "2021-12-11T23:33:15.377723Z",
     "start_time": "2021-12-11T23:33:12.700307Z"
    }
   },
   "outputs": [],
   "source": [
    "import tdmclient.notebook\n",
    "await tdmclient.notebook.start()"
   ]
  },
  {
   "cell_type": "code",
   "execution_count": 3,
   "id": "6c9d29d8",
   "metadata": {
    "ExecuteTime": {
     "end_time": "2021-12-11T23:33:15.717240Z",
     "start_time": "2021-12-11T23:33:15.377723Z"
    }
   },
   "outputs": [],
   "source": [
    "%%run_python\n",
    "\n",
    "state = 1\n",
    "\n",
    "@onevent\n",
    "def move(speed_left, speed_right):\n",
    "    global motor_left_target, motor_right_target, state\n",
    "    if state == 1 :\n",
    "        motor_left_target = speed_left\n",
    "        motor_right_target = speed_right\n",
    "    \n",
    "@onevent \n",
    "def button_center():\n",
    "    global state, motor_left_target, motor_right_target\n",
    "    state = 0\n",
    "    motor_left_target = 0\n",
    "    motor_right_target = 0\n"
   ]
  },
  {
   "cell_type": "code",
   "execution_count": 4,
   "id": "9631b409",
   "metadata": {
    "ExecuteTime": {
     "end_time": "2021-12-11T23:33:15.732204Z",
     "start_time": "2021-12-11T23:33:15.720237Z"
    }
   },
   "outputs": [],
   "source": [
    "def send_command():\n",
    "    \"\"\"\n",
    "    Sends a new command to Thymio every time it is called.\n",
    "    \"\"\"\n",
    "    # case the command is to go forward we correct the input with difference between left and right wheel\n",
    "    if command[step][0] == command[step][1] and command[step][0] != 0:\n",
    "        send_event(\"move\", command[step][0] + 2, command[step][1] - 2)\n",
    "        \n",
    "    # case we want to turn or to stop\n",
    "    else :\n",
    "        send_event(\"move\", command[step][0], command[step][1])\n",
    "        \n",
    "@tdmclient.notebook.sync_var\n",
    "def get_proximity():\n",
    "    \"\"\"\n",
    "    gets the proximity sensor values\n",
    "    \"\"\"\n",
    "    return prox_horizontal"
   ]
  },
  {
   "cell_type": "code",
   "execution_count": 5,
   "id": "b994d848",
   "metadata": {
    "ExecuteTime": {
     "end_time": "2021-12-11T23:33:15.748180Z",
     "start_time": "2021-12-11T23:33:15.734199Z"
    }
   },
   "outputs": [],
   "source": [
    "def command_call():\n",
    "    \"\"\"\n",
    "    updates the estimated states of the robot and sends the command to the robot\n",
    "    This function is called every Ts seconds by a timer\n",
    "    \"\"\"\n",
    "    global command, command_finish , local_mode, command_finish, step\n",
    "    \n",
    "    if step < len(command) :\n",
    "        \n",
    "        step += 1\n",
    "        \n",
    "        if step < len(command) :\n",
    "            send_command()\n",
    "    else :\n",
    "        #allow to know when we can input a new command in local avoidance mode\n",
    "        if local_mode :\n",
    "            command_finish = True\n",
    "           "
   ]
  },
  {
   "cell_type": "code",
   "execution_count": 6,
   "id": "69417025",
   "metadata": {
    "ExecuteTime": {
     "end_time": "2021-12-11T23:33:15.778538Z",
     "start_time": "2021-12-11T23:33:15.749158Z"
    }
   },
   "outputs": [],
   "source": [
    "def local_avoidance(full_path, final_occupancy_grid) :\n",
    "    \"\"\"\n",
    "    Obstacle avoidance: it handles the obstacle avoidance routine\n",
    "    :return: a boolean to know if the A* path is crossed\n",
    "    \"\"\"\n",
    "\n",
    "    \"\"\"\n",
    "    Constructor for initialization\n",
    "   :param full_path: list of the two coordinates of the optimal path before and after actual thymio's position\n",
    "   :param final_occupancy_grid: map grid with obstacle size increase (1: obstacle, 0: no obstacle)\n",
    "   \"\"\"\n",
    "    \n",
    "    #Initialization\n",
    "    global_path = False\n",
    "    \n",
    "    #time to sleep before another iteration in the while loop\n",
    "    T = 0.1\n",
    "    \n",
    "    # global variables\n",
    "    global command, step, command_finish, x_est\n",
    "\n",
    "    # Define constants\n",
    "    MIN_WALL_THRESHOLD = 2000  # constant min threshold to detect a wall or not\n",
    "    MAX_WALL_THRESHOLD = 3000  # constant max threshold to detect a wall or not\n",
    "    conv = math.pi/180 # conversion deg to rad\n",
    "    DISTANCE_ADVANCE = 30 # constant step to move forward in mm\n",
    "    DISTANCE_CHECK = 100 # constant step to check the occupancy grid \n",
    "    # angles of rotation\n",
    "    ANGLE_AVOIDANCE = 13*conv\n",
    "    ANGLE_ADJUSTMENT = 10*conv\n",
    "\n",
    "    # Since we need to follow the wall on its left, if the robot detects an obstacle with its left sensors\n",
    "    # it must rotate to avoid correctly the wall\n",
    "\n",
    "    # If the robot detects the obstacle with its right sensor ok, it can start avoidance\n",
    "\n",
    "    # If it detects the obstacle on the left side of the robot -> need to rotate\n",
    "    \n",
    "    command_finish = True\n",
    "    sensor_values = get_proximity()  # load the five sensors values\n",
    "    while (sensor_values[0] > MIN_WALL_THRESHOLD or sensor_values[1] > MIN_WALL_THRESHOLD or sensor_values[2] > MIN_WALL_THRESHOLD or sensor_values[3] > MIN_WALL_THRESHOLD):\n",
    "        #if the last command finished we compute a new one\n",
    "        if command_finish :\n",
    "            command_finish = False\n",
    "        \n",
    "            if step >= len(command):\n",
    "                last_command = [0, 0]\n",
    "\n",
    "            else :\n",
    "                last_command = command[step]\n",
    "\n",
    "            command = [last_command]\n",
    "\n",
    "            step = 0\n",
    "\n",
    "            command += turn_left(ANGLE_AVOIDANCE) + [[0, 0]] # rotate left\n",
    "        \n",
    "        sensor_values = get_proximity()\n",
    "        sleep(T)\n",
    "        \n",
    "    # If the robot goes straight toward the corner of an obstacle, it has to adjust its angle to avoid the obstacle\n",
    "    # the previous command is finished: can execute the following one \n",
    "    \n",
    "    # Now the robot has to advance and rotate on the right until it finds global path: \n",
    "    # it is following the left wall of the obstacle\n",
    "    sensor_values = get_proximity()\n",
    "    while True :\n",
    "        # first check global obstacles and global path\n",
    "        #obstacle, global_path = check_global_obstacles_and_global_path(DISTANCE_CHECK, final_occupancy_grid, full_path, x_est)\n",
    "        \n",
    "#         if obstacle:  # if it finds an obstacle -> correct direction\n",
    "#             #if the last command finished we compute a new one\n",
    "#             if command_finish :\n",
    "#                 command_finish = False\n",
    "                \n",
    "#                 if step >= len(command):\n",
    "#                     last_command = [0, 0]\n",
    "\n",
    "#                 else :\n",
    "#                     last_command = command[step]\n",
    "\n",
    "#                 command = [last_command]\n",
    "\n",
    "#                 step = 0\n",
    "\n",
    "#                 command += turn_right(ANGLE_AVOIDANCE) + [[0, 0]] # rotate left\n",
    "                \n",
    "        if global_path:  # if the full path is reached, return -> leave the local avoidance\n",
    "            return global_path\n",
    "        \n",
    "        #if the last command finished we compute a new one\n",
    "        if command_finish :\n",
    "            command_finish = False\n",
    "\n",
    "            if step >= len(command):\n",
    "                last_command = [0, 0]\n",
    "\n",
    "            else :\n",
    "                last_command = command[step]\n",
    "\n",
    "            command = [last_command]\n",
    "\n",
    "            step = 0\n",
    "\n",
    "            command += move_forward(DISTANCE_ADVANCE) + turn_right(ANGLE_ADJUSTMENT)  + [[0, 0]]\n",
    "            \n",
    "        sensor_values = get_proximity()\n",
    "        sleep(T)\n",
    "        \n",
    "        while (sensor_values[4] > MIN_WALL_THRESHOLD):\n",
    "            #if the last command finished we compute a new one\n",
    "            if command_finish :\n",
    "                command_finish = False\n",
    "        \n",
    "                if step >= len(command):\n",
    "                    last_command = [0, 0]\n",
    "\n",
    "                else :\n",
    "                    last_command = command[step]\n",
    "\n",
    "                command = [last_command]\n",
    "\n",
    "                step = 0\n",
    "\n",
    "                command += turn_left(ANGLE_ADJUSTMENT) + [[0, 0]] # rotate left\n",
    "\n",
    "            sensor_values = get_proximity()\n",
    "        \n",
    "            sensor_values = get_proximity()\n",
    "            sleep(T)\n",
    "\n",
    "    return global_path"
   ]
  },
  {
   "cell_type": "code",
   "execution_count": null,
   "id": "649005f0",
   "metadata": {
    "ExecuteTime": {
     "start_time": "2021-12-11T23:33:12.232Z"
    }
   },
   "outputs": [],
   "source": [
    "local_mode = False\n",
    "command_finish = False\n",
    "\n",
    "final_grid = np.zeros([720, 1280]) #final occupancy_grid\n",
    "optimal_path = [np.array([1, 1]), np.array([50, 50])]  # full_path: dummy values\n",
    "\n",
    "#first command to make thymio go towards obstacle\n",
    "step = 0\n",
    "command = move_forward(200) + [[0, 0]]\n",
    "\n",
    "rt = RepeatedTimer(Ts, command_call)\n",
    "\n",
    "while not local_mode : \n",
    "    if max(get_proximity()) > 2000 and not local_mode :      \n",
    "        local_mode = True\n",
    "        correction_mode = False\n",
    "        local_avoidance(optimal_path, final_grid)\n",
    "    sleep(0.1)\n",
    "        \n",
    "rt.stop()"
   ]
  }
 ],
 "metadata": {
  "kernelspec": {
   "display_name": "Python(basics_of_mobile_robotics)",
   "language": "python",
   "name": "basics_of_mobile_robotics"
  },
  "language_info": {
   "codemirror_mode": {
    "name": "ipython",
    "version": 3
   },
   "file_extension": ".py",
   "mimetype": "text/x-python",
   "name": "python",
   "nbconvert_exporter": "python",
   "pygments_lexer": "ipython3",
   "version": "3.8.11"
  }
 },
 "nbformat": 4,
 "nbformat_minor": 5
}
