{
 "cells": [
  {
   "cell_type": "markdown",
   "id": "144ce7f6",
   "metadata": {},
   "source": [
    "# Calibration of the Proximity Sensors\n",
    "\n",
    "For doing local navigation, we have to have a sense about the values returned by the Thymio's front proximity sensors. Since Thymio's proximity sensors are sensitive to the lighting condition, we decided to calibrate these sensors in two somewhat dark and bright condition. In addition, we also assumed that the five proximity sensors in the front of Thymio are identical; therefore, we just read the values from the middle proximity sensor (<code>prox_horizontal[2]</code>). \n",
    "\n",
    "The code we used to read values from the middle-front proximity sensor is as follows:"
   ]
  },
  {
   "cell_type": "code",
   "execution_count": 1,
   "id": "0797b68d",
   "metadata": {
    "ExecuteTime": {
     "end_time": "2021-12-12T17:27:57.171590Z",
     "start_time": "2021-12-12T17:27:54.286573Z"
    }
   },
   "outputs": [],
   "source": [
    "import tdmclient.notebook\n",
    "await tdmclient.notebook.start()"
   ]
  },
  {
   "cell_type": "code",
   "execution_count": 2,
   "id": "e04b9b79",
   "metadata": {
    "ExecuteTime": {
     "end_time": "2021-12-12T17:27:58.595001Z",
     "start_time": "2021-12-12T17:27:58.333622Z"
    }
   },
   "outputs": [],
   "source": [
    "import time\n",
    "import numpy as np\n",
    "\n",
    "@tdmclient.notebook.sync_var\n",
    "def append_prox_list(prox_list):\n",
    "    prox_list.append(prox_horizontal[2])\n",
    "    \n",
    "def mean_std_prox_list(prox_list):\n",
    "    prox_list_np = np.array(prox_list)\n",
    "    return prox_list_np, prox_list_np.mean(), prox_list_np.std()\n",
    "\n",
    "def run():\n",
    "    prox_list = []\n",
    "    for i in range(50):\n",
    "        append_prox_list(prox_list)\n",
    "        time.sleep(0.2)\n",
    "    for item in mean_std_prox_list(prox_list):\n",
    "        print(item)"
   ]
  },
  {
   "cell_type": "code",
   "execution_count": 3,
   "id": "2cc2af43",
   "metadata": {
    "ExecuteTime": {
     "end_time": "2021-12-12T17:28:11.247468Z",
     "start_time": "2021-12-12T17:28:00.632540Z"
    }
   },
   "outputs": [
    {
     "name": "stdout",
     "output_type": "stream",
     "text": [
      "[4306 4306 4305 4305 4307 4303 4310 4308 4308 4306 4308 4309 4302 4299\n",
      " 4305 4302 4303 4303 4302 4299 4301 4299 4302 4298 4298 4295 4299 4296\n",
      " 4296 4299 4299 4296 4305 4311 4308 4290 4186 4180 4178 4178 4157 4150\n",
      " 4148 4150 4150 4148 4150 4148 4152 4152]\n",
      "4262.3\n",
      "64.91756310891529\n"
     ]
    }
   ],
   "source": [
    "run()"
   ]
  },
  {
   "cell_type": "markdown",
   "id": "ade2e531",
   "metadata": {},
   "source": [
    "As it can be seen, at each defined distance (from 0.5cm to 15cm or 16cm with a step of 0.5cm), we chose to read proximity sensors for 50 times with a time step of 0.2s. Then, we took the mean of all the measurements corresponding to each distance.\n",
    "\n",
    "The final results (mean values) are included in the <strong>get_proximity_data(light_state=2)</strong> function below. Then, by exploiting linear interpolation using <strong>scipy.interpolate</strong> module, we wrote two function of <strong>convert_sensor_val_to_mm(val)</strong> and <strong>convert_mm_to_sensor_val(val)</strong> to make conversion between sensor values and real distances."
   ]
  },
  {
   "cell_type": "code",
   "execution_count": 1,
   "id": "2559bcf8",
   "metadata": {
    "ExecuteTime": {
     "end_time": "2021-12-12T17:36:18.210655Z",
     "start_time": "2021-12-12T17:36:17.501919Z"
    }
   },
   "outputs": [],
   "source": [
    "import numpy as np\n",
    "from scipy.interpolate import interp1d\n",
    "\n",
    "\n",
    "def get_proximity_data(light_state=2):\n",
    "    \"\"\"\n",
    "    Gives the readings from the Thymio's front middle proximity sensor and the corresponding real distances\n",
    "    :param light_state: [boolean] | 1 (dark), 2 (bright)\n",
    "    :return: real_dists [numpy 1d array], sensor_vals [numpy 1d array]\n",
    "    \"\"\"\n",
    "    if light_state == 1:\n",
    "        # Dark Condition\n",
    "        real_dists = np.array(list(range(5, 155, 5)))\n",
    "        sensor_vals = np.array([4525.04, 4518.74, 4488.36, 4437.74, 4345.0, 4069.16, 3762.72, 3551.56,\\\n",
    "                                3312.68, 3123.58, 2955.4, 2812.3, 2695.22, 2566.52, 2460.92, 2356.86,\\\n",
    "                                2263.78, 2161.4, 2068.2, 1981.98, 1893.14, 1803.46, 1727.06, 1634.14,\\\n",
    "                                1542.08, 1454.48, 1362.06, 1236.04, 64.84, 0])\n",
    "    elif light_state == 2:\n",
    "        # Bright Condition\n",
    "        real_dists = np.array(list(range(5, 165, 5)))\n",
    "        sensor_vals = np.array([4514.34, 4494, 4446.66, 4406.84, 4287.1, 3944.46, 3674.38, 3421.74,\\\n",
    "                                3223.16, 3049.6, 2890.84, 2733.06, 2624.82, 2526.82, 2427.64, 2329.06,\\\n",
    "                                2243.42, 2158.62, 2076.52, 1998.4, 1921.84, 1849.12, 1781.82, 1700.3,\\\n",
    "                                1633.28, 1569.58, 1494.4, 1440.5, 1357.84, 1252.98, 1144.58, 0])\n",
    "    return real_dists, sensor_vals\n",
    "\n",
    "\n",
    "def convert_sensor_val_to_mm(val):\n",
    "    \"\"\"\n",
    "    Converts the desired sensor value to the real distance in mm using linear interpolation\n",
    "    :param val: the desired sensor value [a float]\n",
    "    :return: the real distance in mm [a float]\n",
    "    \"\"\"\n",
    "    real_dists, sensor_vals = get_proximity_data()\n",
    "    if val == 0:\n",
    "        return np.inf\n",
    "    f = interp1d(sensor_vals, real_dists, kind='linear')\n",
    "    return f(val).item()\n",
    "\n",
    "\n",
    "def convert_mm_to_sensor_val(val):\n",
    "    \"\"\"\n",
    "    Converts the desired real distance in mm to the sensor value using linear interpolation\n",
    "    :param val: the desired real distance in mm [a float]\n",
    "    :return: the sensor value [a float]\n",
    "    \"\"\"\n",
    "    real_dists, sensor_vals = get_proximity_data()\n",
    "    if val == 0:\n",
    "        return np.inf\n",
    "    f = interp1d(real_dists, sensor_vals, kind='linear')\n",
    "    return f(val).item()\n"
   ]
  },
  {
   "cell_type": "code",
   "execution_count": 4,
   "id": "043f3c49",
   "metadata": {
    "ExecuteTime": {
     "end_time": "2021-12-12T17:37:35.978162Z",
     "start_time": "2021-12-12T17:37:35.964870Z"
    }
   },
   "outputs": [
    {
     "name": "stdout",
     "output_type": "stream",
     "text": [
      "51.56210632401108\n",
      "99.89759344598055\n"
     ]
    }
   ],
   "source": [
    "print(convert_sensor_val_to_mm(3000))\n",
    "print(convert_sensor_val_to_mm(2000))"
   ]
  },
  {
   "cell_type": "markdown",
   "id": "a8e9967c",
   "metadata": {},
   "source": [
    "## Constants\n",
    "\n",
    "Finally, using the previosuly described calibration, we chose the following constants for the loval navigation and motion control parts:\n",
    "<ul>\n",
    "<li>MAX_WALL_THRESHOLD = 3000 i.e ~ 5 cm </li>\n",
    "<li>MIN_WALL_THRESHOLD = 2000 i.e ~ 10 cm </li>\n",
    "</ul>"
   ]
  }
 ],
 "metadata": {
  "kernelspec": {
   "display_name": "Python(basics_of_mobile_robotics)",
   "language": "python",
   "name": "basics_of_mobile_robotics"
  },
  "language_info": {
   "codemirror_mode": {
    "name": "ipython",
    "version": 3
   },
   "file_extension": ".py",
   "mimetype": "text/x-python",
   "name": "python",
   "nbconvert_exporter": "python",
   "pygments_lexer": "ipython3",
   "version": "3.8.11"
  }
 },
 "nbformat": 4,
 "nbformat_minor": 5
}
