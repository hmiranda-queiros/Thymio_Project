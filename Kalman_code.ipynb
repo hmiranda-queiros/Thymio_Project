{
 "cells": [
  {
   "cell_type": "markdown",
   "id": "24740953",
   "metadata": {},
   "source": [
    "# Code"
   ]
  },
  {
   "cell_type": "code",
   "execution_count": 1,
   "id": "ba412fcf",
   "metadata": {
    "ExecuteTime": {
     "end_time": "2021-11-29T19:57:26.192221Z",
     "start_time": "2021-11-29T19:57:25.853432Z"
    }
   },
   "outputs": [],
   "source": [
    "import matplotlib.pyplot as plt\n",
    "import numpy as np\n",
    "import math, sys, os\n",
    "\n",
    "sys.path.insert(0, os.path.join(os.getcwd(), 'src'))\n",
    "from plotter import *\n"
   ]
  },
  {
   "cell_type": "code",
   "execution_count": 2,
   "id": "9af20250",
   "metadata": {
    "ExecuteTime": {
     "end_time": "2021-11-29T19:57:28.862430Z",
     "start_time": "2021-11-29T19:57:26.192221Z"
    }
   },
   "outputs": [],
   "source": [
    "# Import tdmclient Notebook environment:\n",
    "import tdmclient.notebook\n",
    "await tdmclient.notebook.start()"
   ]
  },
  {
   "cell_type": "markdown",
   "id": "649125c7",
   "metadata": {},
   "source": [
    "### Instantiation of all the constants : "
   ]
  },
  {
   "cell_type": "code",
   "execution_count": 3,
   "id": "93ef3fac",
   "metadata": {
    "ExecuteTime": {
     "end_time": "2021-11-29T19:57:28.885005Z",
     "start_time": "2021-11-29T19:57:28.862430Z"
    }
   },
   "outputs": [],
   "source": [
    "#Constants\n",
    "Ts = 0.1\n",
    "thymio_speed_to_mms = 0.341\n",
    "distance_wheel = 95\n",
    "\n",
    "#Thymio goes forward\n",
    "q_F_x = 0.008\n",
    "q_F_y =  0.008\n",
    "q_F_theta = 0.000006\n",
    "q_F_x_dot = 0.779  \n",
    "q_F_y_dot =  0.779  \n",
    "q_F_theta_dot = 0.000591\n",
    "\n",
    "Q_F = np.array([[q_F_x, 0, 0, 0, 0, 0], \n",
    "                [0, q_F_y, 0, 0, 0, 0], \n",
    "                [0, 0, q_F_theta, 0, 0, 0],\n",
    "                [0, 0, 0, q_F_x_dot, 0, 0], \n",
    "                [0, 0, 0, 0, q_F_y_dot, 0], \n",
    "                [0, 0, 0, 0, 0, q_F_theta_dot]]);\n",
    "\n",
    "r_F_x_dot = 0.779  \n",
    "r_F_y_dot = 0.779\n",
    "r_F_theta_dot = 0.000591\n",
    "\n",
    "R_F = np.array([[r_F_x_dot, 0, 0],\n",
    "               [0, r_F_y_dot, 0],\n",
    "               [0, 0, r_F_theta_dot]]);\n",
    "\n",
    "A_F = np.array([[1, 0, 0, Ts, 0, 0], \n",
    "                [0, 1, 0, 0, Ts, 0], \n",
    "                [0, 0, 1, 0, 0, 0],\n",
    "                [0, 0, 0, 1, 0, 0], \n",
    "                [0, 0, 0, 0, 1, 0], \n",
    "                [0, 0, 0, 0, 0, 1]]);\n",
    "\n",
    "\n",
    "#Thymio rotates\n",
    "q_R_x = 0.01\n",
    "q_R_y =  0.01\n",
    "q_R_theta = 0.00001 \n",
    "q_R_x_dot = 1.31\n",
    "q_R_y_dot =  1.31\n",
    "q_R_theta_dot = 0.00122\n",
    "\n",
    "Q_R = np.array([[q_R_x, 0, 0, 0, 0, 0], \n",
    "                [0, q_R_y, 0, 0, 0, 0], \n",
    "                [0, 0, q_R_theta, 0, 0, 0],\n",
    "                [0, 0, 0, q_R_x_dot, 0, 0], \n",
    "                [0, 0, 0, 0, q_R_y_dot, 0], \n",
    "                [0, 0, 0, 0, 0, q_R_theta_dot]]);\n",
    "\n",
    "r_R_x_dot = 1.31\n",
    "r_R_y_dot = 1.31\n",
    "r_R_theta_dot = 0.00122  \n",
    "\n",
    "R_R = np.array([[r_R_x_dot, 0, 0],\n",
    "               [0, r_R_y_dot, 0],\n",
    "               [0, 0, r_R_theta_dot]]);\n",
    "\n",
    "A_R = np.array([[1, 0, 0, 0, 0, 0], \n",
    "                [0, 1, 0, 0, 0, 0], \n",
    "                [0, 0, 1, 0, 0, Ts],\n",
    "                [0, 0, 0, 1, 0, 0], \n",
    "                [0, 0, 0, 0, 1, 0], \n",
    "                [0, 0, 0, 0, 0, 1]]);\n",
    "\n",
    "# commun matrix\n",
    "H = np.array([[0, 0, 0, 1, 0, 0], \n",
    "              [0, 0, 0, 0, 1, 0],\n",
    "              [0, 0, 0, 0, 0, 1]]);\n",
    "\n"
   ]
  },
  {
   "cell_type": "markdown",
   "id": "a8d506ce",
   "metadata": {},
   "source": [
    "### Code of Kalman function :"
   ]
  },
  {
   "cell_type": "code",
   "execution_count": 4,
   "id": "4f0a3e1b",
   "metadata": {
    "ExecuteTime": {
     "end_time": "2021-11-29T19:57:28.900038Z",
     "start_time": "2021-11-29T19:57:28.886002Z"
    }
   },
   "outputs": [],
   "source": [
    "def kalman_filter(meas_speed_left, meas_speed_right, x_est_prev, P_est_prev, Q, R, A):\n",
    "    \n",
    "    \n",
    "    ## Prediciton through the a priori estimate\n",
    "    # estimated mean of the state\n",
    "    x_est_a_priori = np.dot(A, x_est_prev) \n",
    "    \n",
    "    # Estimated covariance of the state\n",
    "    P_est_a_priori = np.dot(A, np.dot(P_est_prev, A.T))\n",
    "    P_est_a_priori = P_est_a_priori + Q\n",
    "    \n",
    "    \n",
    "    #measurements\n",
    "    speed_trans = (meas_speed_left + meas_speed_right) * thymio_speed_to_mms / 2\n",
    "    speed_rot =  (meas_speed_right - meas_speed_left) * (thymio_speed_to_mms / distance_wheel)\n",
    "    \n",
    "    theta_est = x_est_a_priori[2];\n",
    "    x_dot = speed_trans * math.cos(theta_est)\n",
    "    y_dot = speed_trans * math.sin(theta_est)\n",
    "    theta_dot = speed_rot\n",
    "    \n",
    "    y = np.array([[x_dot], [y_dot], [theta_dot]])\n",
    "   \n",
    "\n",
    "    # innovation / measurement residual\n",
    "    i = y - np.dot(H, x_est_a_priori)\n",
    "    # measurement prediction covariance\n",
    "    S = np.dot(H, np.dot(P_est_a_priori, H.T)) + R\n",
    "             \n",
    "    # Kalman gain (tells how much the predictions should be corrected based on the measurements)\n",
    "    K = np.dot(P_est_a_priori, np.dot(H.T, np.linalg.inv(S)))\n",
    "    \n",
    "    \n",
    "    # a posteriori estimate\n",
    "    x_est = x_est_a_priori + np.dot(K,i)\n",
    "    P_est = P_est_a_priori - np.dot(K,np.dot(H, P_est_a_priori))\n",
    "    \n",
    "    return x_est, P_est"
   ]
  },
  {
   "cell_type": "markdown",
   "id": "2ab7b527",
   "metadata": {},
   "source": [
    "### Utilization of Kalman : "
   ]
  },
  {
   "cell_type": "code",
   "execution_count": 5,
   "id": "a2805b27",
   "metadata": {
    "ExecuteTime": {
     "end_time": "2021-11-29T19:57:28.915566Z",
     "start_time": "2021-11-29T19:57:28.901040Z"
    }
   },
   "outputs": [],
   "source": [
    "camera_on = False"
   ]
  },
  {
   "cell_type": "code",
   "execution_count": 6,
   "id": "d8da4155",
   "metadata": {
    "ExecuteTime": {
     "end_time": "2021-11-29T19:57:28.930988Z",
     "start_time": "2021-11-29T19:57:28.917580Z"
    }
   },
   "outputs": [],
   "source": [
    "from threading import Timer\n",
    "\n",
    "class RepeatedTimer(object):\n",
    "    def __init__(self, interval, function, *args):\n",
    "        self._timer     = None\n",
    "        self.interval   = interval\n",
    "        self.function   = function\n",
    "        self.args       = args\n",
    "        self.is_running = False\n",
    "        self.start()\n",
    "\n",
    "    def _run(self):\n",
    "        self.is_running = False\n",
    "        self.start()\n",
    "        self.function(*self.args)\n",
    "\n",
    "    def start(self):\n",
    "        if not self.is_running:\n",
    "            self._timer = Timer(self.interval, self._run)\n",
    "            self._timer.start()\n",
    "            self.is_running = True\n",
    "\n",
    "    def stop(self):\n",
    "        self._timer.cancel()\n",
    "        self.is_running = False"
   ]
  },
  {
   "cell_type": "code",
   "execution_count": 7,
   "id": "32d39a90",
   "metadata": {
    "ExecuteTime": {
     "end_time": "2021-11-29T19:57:29.272388Z",
     "start_time": "2021-11-29T19:57:28.932360Z"
    }
   },
   "outputs": [],
   "source": [
    "%%run_python\n",
    "\n",
    "state = 1\n",
    "\n",
    "@onevent\n",
    "def move(speed_left, speed_right):\n",
    "    global motor_left_target, motor_right_target, state\n",
    "    if state == 1 :\n",
    "        motor_left_target = speed_left\n",
    "        motor_right_target = speed_right\n",
    "    \n",
    "@onevent \n",
    "def button_center():\n",
    "    global state, motor_left_target, motor_right_target\n",
    "    state = 0\n",
    "    motor_left_target = 0\n",
    "    motor_right_target = 0"
   ]
  },
  {
   "cell_type": "code",
   "execution_count": 8,
   "id": "a8859ddb",
   "metadata": {
    "ExecuteTime": {
     "end_time": "2021-11-29T19:57:29.287352Z",
     "start_time": "2021-11-29T19:57:29.274388Z"
    }
   },
   "outputs": [],
   "source": [
    "def send_command():\n",
    "    if optimal_command[step][0] == optimal_command[step][1] and optimal_command[step][0] != 0:\n",
    "        send_event(\"move\", optimal_command[step][0] + 2, optimal_command[step][1] - 2)\n",
    "    else :\n",
    "        send_event(\"move\", optimal_command[step][0], optimal_command[step][1])"
   ]
  },
  {
   "cell_type": "code",
   "execution_count": 9,
   "id": "c0e670d6",
   "metadata": {
    "ExecuteTime": {
     "end_time": "2021-11-29T19:57:29.303345Z",
     "start_time": "2021-11-29T19:57:29.289347Z"
    }
   },
   "outputs": [],
   "source": [
    "@tdmclient.notebook.sync_var\n",
    "def get_speed():\n",
    "    return motor_left_speed, motor_right_speed\n",
    "\n",
    "def kalman_call():\n",
    "    global step, x_est, start\n",
    "    \n",
    "    if step < len(optimal_command) :\n",
    "        #retrieves the equivalent of the command that was applied Ts seconds ago\n",
    "        speed_left = optimal_command[step][0]\n",
    "        speed_right = optimal_command[step][1]\n",
    "\n",
    "        speed_trans = (speed_left + speed_right) * thymio_speed_to_mms / 2\n",
    "        speed_rot =  (speed_right - speed_left) * (thymio_speed_to_mms / distance_wheel)\n",
    "\n",
    "        theta = x_est[-1][2];\n",
    "\n",
    "        x_est[-1][3] = speed_trans * math.cos(theta)\n",
    "        x_est[-1][4] = speed_trans * math.sin(theta)\n",
    "        x_est[-1][5] = speed_rot\n",
    "\n",
    "        #gets the right matrix corresponding to the command :\n",
    "        #Thymio goes forward\n",
    "        if speed_left == speed_right :\n",
    "            Q = Q_F\n",
    "            R = R_F\n",
    "            A = A_F\n",
    "\n",
    "        #Thymio is rotating\n",
    "        else :\n",
    "            Q = Q_R\n",
    "            R = R_R\n",
    "            A = A_R\n",
    "\n",
    "\n",
    "        #measures the speed of the robot\n",
    "        meas_speed_left,  meas_speed_right = get_speed()\n",
    "\n",
    "        #computes the estimated states\n",
    "        new_x_est, new_P_est = kalman_filter(meas_speed_left, meas_speed_right, x_est[-1], P_est[-1], Q, R, A)\n",
    "\n",
    "        x_est.append(new_x_est)\n",
    "        P_est.append(new_P_est)\n",
    "\n",
    "        step += 1\n",
    "\n",
    "        if step < len(optimal_command) :\n",
    "            send_command()"
   ]
  },
  {
   "cell_type": "code",
   "execution_count": 10,
   "id": "f949b03d",
   "metadata": {
    "ExecuteTime": {
     "end_time": "2021-11-29T19:57:32.552171Z",
     "start_time": "2021-11-29T19:57:29.304334Z"
    }
   },
   "outputs": [
    {
     "data": {
      "image/png": "[encoded data removed]",
      "text/plain": [
       "<Figure size 720x1440 with 2 Axes>"
      ]
     },
     "metadata": {
      "needs_background": "light"
     },
     "output_type": "display_data"
    }
   ],
   "source": [
    "#initial state :\n",
    "x0 = 10\n",
    "y0 = 10\n",
    "theta0 = 0\n",
    "x_dot0 = 0 \n",
    "y_dot0 = 0\n",
    "theta_dot0 = 0 \n",
    "\n",
    "x_est = [np.array([[x0], [y0], [theta0], [x_dot0], [y_dot0], [theta_dot0]])]\n",
    "\n",
    "if x_dot0 == y_dot0 :\n",
    "    P_est = [np.diag(np.array([0.001, 0.001, 0.000001, q_F_x_dot, q_F_y_dot, q_F_theta_dot]))]\n",
    "\n",
    "else :\n",
    "    P_est = [np.diago(np.array([0.001, 0.001, 0.000001, q_R_x_dot, q_R_y_dot, q_R_theta_dot]))]\n",
    "\n",
    "step = 0\n",
    "optimal_command = [[-100, 100], [-100, 100], [-100, 100], [-100, 100], [-100, 100], [-100, 100], [-100, 100], [-100, 100], [-100, 100], [-100, 100], [-100, 100], [-100, 100], [100, 100], [100, 100], [100, 100], [100, 100], [100, 100], [100, 100], [100, 100], [100, 100], [100, 100], [100, 100], [100, 100], [100, 100], [100, 100], [100, 100], [100, 100], [0, 0]]\n",
    "\n",
    "body = start_plot(x_est, P_est)\n",
    "\n",
    "#start of Kalman\n",
    "send_command()\n",
    "\n",
    "rt = RepeatedTimer(Ts, kalman_call)\n",
    "\n",
    "while camera_on != True and step < len(optimal_command):\n",
    "    update_plot(x_est, body)\n",
    "\n",
    "rt.stop()"
   ]
  }
 ],
 "metadata": {
  "kernelspec": {
   "display_name": "Python(basics_of_mobile_robotics)",
   "language": "python",
   "name": "basics_of_mobile_robotics"
  },
  "language_info": {
   "codemirror_mode": {
    "name": "ipython",
    "version": 3
   },
   "file_extension": ".py",
   "mimetype": "text/x-python",
   "name": "python",
   "nbconvert_exporter": "python",
   "pygments_lexer": "ipython3",
   "version": "3.8.11"
  }
 },
 "nbformat": 4,
 "nbformat_minor": 5
}
